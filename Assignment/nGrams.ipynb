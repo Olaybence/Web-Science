{
 "metadata": {
  "language_info": {
   "codemirror_mode": {
    "name": "ipython",
    "version": 3
   },
   "file_extension": ".py",
   "mimetype": "text/x-python",
   "name": "python",
   "nbconvert_exporter": "python",
   "pygments_lexer": "ipython3",
   "version": "3.8.5-final"
  },
  "orig_nbformat": 2,
  "kernelspec": {
   "name": "python3",
   "display_name": "Python 3.8.5 64-bit (conda)",
   "metadata": {
    "interpreter": {
     "hash": "ecf5722fdaf1897a315d257d89d94520bfcaa453217d5becf09b39e73618b0de"
    }
   }
  }
 },
 "nbformat": 4,
 "nbformat_minor": 2,
 "cells": [
  {
   "cell_type": "code",
   "execution_count": null,
   "metadata": {
    "tags": []
   },
   "outputs": [],
   "source": [
    "# import sklearn.datasets\n",
    "import pandas as pd\n",
    "\n",
    "data = pd.read_csv(\"SST2/stsa.binary.phrases.train\")\n",
    "indexes = data['index']\n",
    "labels = data['label']\n",
    "texts = data['text']\n",
    "\n",
    "wordBook = {}\n",
    "\n",
    "# print(texts.head(1)[0].split(sep=\" \"))\n",
    "for i,text in texts.items():\n",
    "    words = text.split(sep=\" \")\n",
    "    for word in words:\n",
    "        print(word,labels[i])\n",
    "        if word not in wordBook.keys():\n",
    "            wordBook[(word,labels[i])] = 1\n",
    "        else:\n",
    "            wordBook[(word,labels[i])] = wordBook.get(word) + 1\n",
    "print(wordBook)"
   ]
  },
  {
   "cell_type": "code",
   "execution_count": null,
   "metadata": {},
   "outputs": [],
   "source": [
    "from itertools import islice\n",
    "\n",
    "def take(n, iterable):\n",
    "    return list(islice(iterable, n))"
   ]
  },
  {
   "cell_type": "code",
   "execution_count": null,
   "metadata": {
    "tags": []
   },
   "outputs": [],
   "source": [
    "mostFrequents = dict(reversed(sorted(wordBook.items(), key=lambda item: item[1])))\n",
    "# print(mostFrequents)\n",
    "for i,text in take(20, mostFrequents.items()):\n",
    "    print(text, i)"
   ]
  }
 ]
}