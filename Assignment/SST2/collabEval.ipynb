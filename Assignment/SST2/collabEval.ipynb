{
 "metadata": {
  "language_info": {
   "codemirror_mode": {
    "name": "ipython",
    "version": 3
   },
   "file_extension": ".py",
   "mimetype": "text/x-python",
   "name": "python",
   "nbconvert_exporter": "python",
   "pygments_lexer": "ipython3",
   "version": "3.8.5-final"
  },
  "orig_nbformat": 2,
  "kernelspec": {
   "name": "python385jvsc74a57bd0ecf5722fdaf1897a315d257d89d94520bfcaa453217d5becf09b39e73618b0de",
   "display_name": "Python 3.8.5 64-bit (conda)"
  },
  "metadata": {
   "interpreter": {
    "hash": "ecf5722fdaf1897a315d257d89d94520bfcaa453217d5becf09b39e73618b0de"
   }
  }
 },
 "nbformat": 4,
 "nbformat_minor": 2,
 "cells": [
  {
   "cell_type": "code",
   "execution_count": 173,
   "metadata": {
    "tags": []
   },
   "outputs": [
    {
     "output_type": "stream",
     "name": "stdout",
     "text": [
      "row [2 3 3 2 5 5 2 3 2 1 3 1 3 3 2 5 4 2 1 4 3 2 4 4 1 1 1 4 1 4 4 4 4 4 4 5 4\n 4 3 3 5 2 1 4 1 4 4 3 1 2 1 5 4 2 1 5 1 3 1 2 3 2 1 5 5 5 4 2 1 2 3 2 2 4\n 4 3 4 3 4 1 1 1 1 2 4 4 2 1 1 1 3 4 4 2 3 2 3 1 2 3 4]\n"
     ]
    }
   ],
   "source": [
    "import pandas as pd\n",
    "import numpy as np\n",
    "df = pd.read_csv(\"GlobalSheet2.csv\")\n",
    "# df = pd.read_csv(\"GlobalSheet2.csv\",header=1)\n",
    "\n",
    "cols = []\n",
    "for i in range(29):\n",
    "    cols.append(str(i+1))\n",
    "# print(cols)\n",
    "\n",
    "ratings = df.drop([\"Sentence Index\",\"Ground Truth Labels\"] + cols,axis=1)\n",
    "groundTruth = df[\"Ground Truth Labels\"]\n",
    "\n",
    "trustRank = pd.DataFrame(columns=ratings.columns)\n",
    "trustRank.loc[0] = [0] * ratings.shape[1]\n",
    "\n",
    "# itemRateFromUsers = pd.DataFrame(columns=ratings.columns)\n",
    "# itemRateFromUsers.loc[0] = [0]*ratings.shape[1]\n",
    "itemRateFromUsers = [0] * ratings.shape[0]\n",
    "\n",
    "convereged = [False] * ratings.shape[0]\n",
    "lowerBound = 0.5\n",
    "upperBound = 4.5\n",
    "\n",
    "\n",
    "for i, row in ratings.iterrows():\n",
    "    # Calc new mean\n",
    "    meanRate = round(np.mean(row),2)\n",
    "    itemRateFromUsers[i] = meanRate\n",
    "    if meanRate < lowerBound:\n",
    "        itemRateFromUsers[i] = 0\n",
    "        convereged[i] = True\n",
    "        # print(\"low\")\n",
    "    if meanRate > upperBound:\n",
    "        itemRateFromUsers[i] = 5\n",
    "        convereged[i] = True\n",
    "        # print(\"big\")\n",
    "    \n",
    "    # Recap the trustRanks\n",
    "    for j, row in ratings.iteritems():\n",
    "        print('row',row.values)\n",
    "        # for k, rate in row.values:\n",
    "        #     print('k', k, 'rate', rate)\n",
    "            # if not convereged[j]:\n",
    "        break\n",
    "    break\n",
    "            \n",
    "\n",
    "# for (columnName, columnData) in ratings.iteritems():\n",
    "#    print('Colunm Name : ', columnName)\n",
    "#    print('Column Contents : ', columnData.values.shape)\n",
    "    #  print('index\\n', index)\n",
    "\n",
    "# print(itemRateFromUsers)"
   ]
  },
  {
   "cell_type": "code",
   "execution_count": 160,
   "metadata": {},
   "outputs": [
    {
     "output_type": "execute_result",
     "data": {
      "text/plain": [
       "<generator object DataFrame.iteritems at 0x000001B575C510B0>"
      ]
     },
     "metadata": {},
     "execution_count": 160
    }
   ],
   "source": []
  }
 ]
}