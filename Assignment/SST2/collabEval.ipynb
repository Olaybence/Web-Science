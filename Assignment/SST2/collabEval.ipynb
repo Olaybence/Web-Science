{
 "metadata": {
  "language_info": {
   "codemirror_mode": {
    "name": "ipython",
    "version": 3
   },
   "file_extension": ".py",
   "mimetype": "text/x-python",
   "name": "python",
   "nbconvert_exporter": "python",
   "pygments_lexer": "ipython3",
   "version": "3.8.5-final"
  },
  "orig_nbformat": 2,
  "kernelspec": {
   "name": "python385jvsc74a57bd0ecf5722fdaf1897a315d257d89d94520bfcaa453217d5becf09b39e73618b0de",
   "display_name": "Python 3.8.5 64-bit (conda)"
  },
  "metadata": {
   "interpreter": {
    "hash": "ecf5722fdaf1897a315d257d89d94520bfcaa453217d5becf09b39e73618b0de"
   }
  }
 },
 "nbformat": 4,
 "nbformat_minor": 2,
 "cells": [
  {
   "cell_type": "code",
   "execution_count": 14,
   "metadata": {
    "tags": []
   },
   "outputs": [],
   "source": [
    "import pandas as pd\n",
    "import numpy as np\n",
    "df = pd.read_csv(\"GlobalSheet.csv\")\n",
    "# df = pd.read_csv(\"GlobalSheet2.csv\",header=1)\n",
    "\n",
    "cols = []\n",
    "for i in range(29):\n",
    "    cols.append(str(i+1))\n",
    "# print(cols)\n",
    "\n",
    "ratings = df.drop([\"Sentence Index\",\"Ground Truth Labels\"] + cols,axis=1)\n",
    "groundTruth = df[\"Ground Truth Labels\"]\n",
    "users = ratings.columns\n",
    "# print(ratings)"
   ]
  },
  {
   "cell_type": "code",
   "execution_count": 15,
   "metadata": {
    "tags": []
   },
   "outputs": [],
   "source": [
    "trustRank = pd.DataFrame(columns=users)\n",
    "trustRank.loc[0] = [0] * ratings.shape[1]\n",
    "\n",
    "numOfItems = ratings.shape[0]\n",
    "numOfUsers = ratings.shape[1]\n",
    "\n",
    "# itemRateOfAll = pd.DataFrame(columns=ratings.columns)\n",
    "# itemRateOfAll.loc[0] = [0]*ratings.shape[1]\n",
    "itemRateOfAll = [0] * numOfItems\n",
    "\n",
    "# Is the item i.th item got to a decidable state\n",
    "converged = [False] * numOfItems\n",
    "\n",
    "# Convergens bounds\n",
    "lowerBound = 1\n",
    "upperBound = 4\n",
    "\n",
    "# Trust score minimum\n",
    "untrusted = 0.8\n",
    "iterations = 50\n",
    "\n",
    "def conv():\n",
    "    for c in converged.values:\n",
    "        if not c:\n",
    "            return False\n",
    "    return True\n",
    "\n",
    "def calcRate(rates):\n",
    "    new = 0\n",
    "    trusted = 0\n",
    "    for i, rate in enumerate(rates):\n",
    "        # print(trustRank.values[0][i], rate)\n",
    "        if rate < 3 and trustRank.values[0][i] > untrusted:\n",
    "            new += trustRank.values[0][i] * 0\n",
    "            trusted += 1\n",
    "        elif trustRank.values[0][i] > untrusted:\n",
    "            new += trustRank.values[0][i] * 5\n",
    "            trusted += 1\n",
    "    return new / trusted\n",
    "\n",
    "# First just calculate the means of the rankings\n",
    "for i, row in ratings.iterrows():\n",
    "        # Calc new mean\n",
    "        meanRate = round(np.mean(row),2)\n",
    "        itemRateOfAll[i] = meanRate\n",
    "\n",
    "\n",
    "# print(itemRateOfAll)\n",
    "# Iterate to converge with trust\n",
    "for z in range(iterations):\n",
    "    # Recap the users' trustScore\n",
    "    # Go throw Users\n",
    "    for userName, itemRanksOfUser in ratings.iteritems():\n",
    "        # print('User',userName)\n",
    "        # print('itemRanks',itemRanksOfUser.values)\n",
    "        # Trust sum (0/1 | )\n",
    "        trust = 0\n",
    "        # Go throw each Item with each user\n",
    "        for itemID, rate in enumerate(itemRanksOfUser.values):\n",
    "            # print(itemID, 'th item rated with:', rate, 'by', user)\n",
    "            \n",
    "            # WE MIGHT WANNA USE THE GROUND TRUTH HERE (here worst result than the current)\n",
    "            # if groundTruth[itemID] == 0 and rate < 3:\n",
    "            if itemRateOfAll[itemID] < 3 and rate < 3:\n",
    "                trust += 1\n",
    "            # if groundTruth[itemID] == 1 and rate >= 3:\n",
    "            if itemRateOfAll[itemID] >= 3 and rate >= 3:\n",
    "                trust += 1\n",
    "            # trust += abs(rate - itemRateOfAll[k])\n",
    "        trustRank[userName][0] = trust / numOfItems\n",
    "    # print(trustRank)\n",
    "    # Recalculate with the new trust scores\n",
    "    for i, row in ratings.iterrows():\n",
    "        # Calc new mean\n",
    "        meanRate = round(calcRate(row),2)\n",
    "        # If good enough end the iterations on that\n",
    "        if not converged[i] and meanRate < lowerBound:\n",
    "            itemRateOfAll[i] = 0\n",
    "            converged[i] = True\n",
    "            # print(\"low\")\n",
    "        elif not converged[i] and meanRate > upperBound:\n",
    "            itemRateOfAll[i] = 5\n",
    "            converged[i] = True\n",
    "            # print(\"big\")\n",
    "        elif not converged[i]:\n",
    "            itemRateOfAll[i] = meanRate\n",
    "    if False not in converged:\n",
    "        print(\"All item converged\",z)\n",
    "        break"
   ]
  },
  {
   "cell_type": "code",
   "execution_count": 17,
   "metadata": {},
   "outputs": [
    {
     "output_type": "stream",
     "name": "stdout",
     "text": [
      "The crowd decided sussecfully 82 number of reviews.\n19 number of reviews were decided by there state after the iterations.\nCompared to the base labels the error percentage of the algorithm is 5.0%.\n"
     ]
    }
   ],
   "source": [
    "decided = 0\n",
    "for d in converged:\n",
    "    if d:\n",
    "        decided += 1\n",
    "print('The crowd decided sussecfully', decided ,'number of reviews.')\n",
    "print(str(numOfItems - decided) ,'number of reviews were decided by there state after the iterations.')\n",
    "\n",
    "\n",
    "# If there haven't converge, we decide it at that point\n",
    "for i, rate in enumerate(itemRateOfAll):\n",
    "    if rate != 0 or rate != 5:\n",
    "        if rate < 3:\n",
    "            itemRateOfAll[i] = 0\n",
    "        if rate >= 3:\n",
    "            itemRateOfAll[i] = 5\n",
    "\n",
    "# The crowd's decision\n",
    "finalRatings = [int(x / 5) for x in itemRateOfAll]\n",
    "# print(finalRatings)\n",
    "# print(converged)\n",
    "# print(trustRank)\n",
    "\n",
    "# The error of the crowd was 5%\n",
    "error = round(sum(abs(groundTruth - finalRatings)) / len(groundTruth),2)\n",
    "print('Compared to the base labels the error percentage of the algorithm is ' + str(error*100) + '%.')"
   ]
  }
 ]
}