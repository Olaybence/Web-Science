{
 "metadata": {
  "language_info": {
   "codemirror_mode": {
    "name": "ipython",
    "version": 3
   },
   "file_extension": ".py",
   "mimetype": "text/x-python",
   "name": "python",
   "nbconvert_exporter": "python",
   "pygments_lexer": "ipython3",
   "version": "3.8.5-final"
  },
  "orig_nbformat": 2,
  "kernelspec": {
   "name": "python385jvsc74a57bd0ecf5722fdaf1897a315d257d89d94520bfcaa453217d5becf09b39e73618b0de",
   "display_name": "Python 3.8.5 64-bit (conda)"
  },
  "metadata": {
   "interpreter": {
    "hash": "ecf5722fdaf1897a315d257d89d94520bfcaa453217d5becf09b39e73618b0de"
   }
  }
 },
 "nbformat": 4,
 "nbformat_minor": 2,
 "cells": [
  {
   "cell_type": "code",
   "execution_count": 209,
   "metadata": {
    "tags": []
   },
   "outputs": [],
   "source": [
    "import pandas as pd\n",
    "import numpy as np\n",
    "from sklearn.feature_extraction.text import TfidfVectorizer\n",
    "from sklearn.feature_extraction.text import TfidfTransformer\n",
    "from sklearn.feature_extraction.text import CountVectorizer\n",
    "from sklearn.ensemble import VotingClassifier\n",
    "\n",
    "import re\n",
    "import string\n",
    "from nltk.corpus import stopwords\n",
    "\n",
    "##########\n",
    "## SST2 ##\n",
    "##########\n",
    "\n",
    "class SentAnalyzer():\n",
    "    def __init__(self, sourcePath):\n",
    "        self.data = pd.read_csv(sourcePath)\n",
    "        \n",
    "        # self.indexes = self.data['index']\n",
    "        self.labels = self.data['label']\n",
    "        \n",
    "        # Do we wanna clean the data?\n",
    "        self.cleanData = True\n",
    "\n",
    "        # self.texts = self.data['text']\n",
    "        self.texts = self.data[\"text\"]\n",
    "        self.textsL1 = self.data.loc[self.data['label'] == 1][\"text\"]\n",
    "        self.textsL0 = self.data.loc[self.data['label'] == 0][\"text\"]\n",
    "\n",
    "        self.stop_words = stopwords.words('english')\n",
    "        self.regexStopWords = \"\"\n",
    "        self.conj = \"( |\\W|^[a-zA-Z0-9])\"\n",
    "        for w in self.stop_words:\n",
    "            self.regexStopWords += self.conj + w + self.conj + \"|\"\n",
    "        self.regexStopWords = self.regexStopWords[:len(self.regexStopWords)-1]\n",
    "\n",
    "    def cleanString(self,text):\n",
    "        x = \" \" + text.lower()\n",
    "        x = re.sub('[%s]' % re.escape(string.punctuation), ' ', x)\n",
    "        x = re.sub(regexStopWords, ' ', x)\n",
    "        return x\n",
    "\n",
    "    def checkBalance(self):\n",
    "        len1 = len(self.textsL1)\n",
    "        len0 = len(self.textsL0)\n",
    "        print('Label 1:',len1)\n",
    "        print('Label 0:',len0)\n",
    "        if len1 > len0:\n",
    "            print('Their ratio:',round(abs(len1/len0),2))\n",
    "        else:\n",
    "            print('Their ratio:',round(abs(len0/len1),2))\n",
    "\n",
    "    def nGrams(self, data, minN,maxN,n):\n",
    "        for i in range(minN,maxN):\n",
    "            cv = CountVectorizer(ngram_range = (i,i))\n",
    "            if self.cleanData:\n",
    "                cv = CountVectorizer(ngram_range = (i,i),preprocessor=self.cleanString)\n",
    "\n",
    "            word_count_vector = cv.fit_transform(data)\n",
    "            # print(word_count_vector)\n",
    "            \n",
    "            # Fit the model into the data\n",
    "            tfidf_transformer = TfidfTransformer(smooth_idf=True,use_idf=True) \n",
    "            tfidf_transformer.fit(word_count_vector)\n",
    "            \n",
    "            df_idf = pd.DataFrame(tfidf_transformer.idf_, index = cv.get_feature_names(),columns = [\"tfidf\"])\n",
    "            \n",
    "            # sort ascending \n",
    "            print(df_idf.sort_values(by = ['tfidf'])[:n])\n",
    "    \n",
    "    def lengthCorrelation(self):\n",
    "        lengths = [(lambda x: len(x[1]))(x) for x in self.texts.items()]\n",
    "        lenLab = pd.DataFrame( list(zip(lengths, self.labels)), columns = [\"length\",\"labels\"])\n",
    "        print(lenLab.corr())\n",
    "\n",
    "    def textTfidfValues(self,data):\n",
    "        # this steps generates word counts for the words in your docs \n",
    "        cv = CountVectorizer()\n",
    "        if self.cleanData:\n",
    "            cv = CountVectorizer(preprocessor = self.cleanString)\n",
    "        \n",
    "        word_count_vector = cv.fit_transform(data)\n",
    "\n",
    "        # print(word_count_vector)\n",
    "        \n",
    "        tfidf_transformer = TfidfTransformer(smooth_idf = True, use_idf = True)\n",
    "        tfidf_transformer.fit(word_count_vector)\n",
    "        \n",
    "        self.tfidf = pd.DataFrame(tfidf_transformer.idf_, index = cv.get_feature_names(), columns = [\"tfidf\"])\n",
    "        \n",
    "        # sort ascending \n",
    "        # print(self.tfidf_transformer.idf_)\n",
    "        return self.tfidf.sort_values(by = [\"tfidf\"])"
   ]
  },
  {
   "cell_type": "code",
   "execution_count": 207,
   "metadata": {},
   "outputs": [],
   "source": [
    "# Load the SST data\n",
    "train = SentAnalyzer(\"stsa.binary.phrases.train\")"
   ]
  },
  {
   "cell_type": "code",
   "execution_count": 332,
   "metadata": {},
   "outputs": [],
   "source": [
    "from nltk.tokenize import sent_tokenize, word_tokenize \r\n",
    "from nltk.corpus import stopwords \r\n",
    "\r\n",
    "text = \"unless bob crane is someone of particular interest to you , this film 's impressive performances and adept direction are n't likely to leave a lasting impression .\"\r\n",
    "stopWords = set(stopwords.words('english')) \r\n",
    "words = word_tokenize(text)\r\n",
    "for w in words: \r\n",
    "    if w not in stopWords: \r\n",
    "        wordsFiltered.append(w) "
   ]
  },
  {
   "cell_type": "code",
   "execution_count": 208,
   "metadata": {
    "tags": []
   },
   "outputs": [
    {
     "output_type": "stream",
     "name": "stdout",
     "text": [
      "The 20 most common word overall and within the two label.\n",
      "Overall:\n",
      "               tfidf\n",
      "the         2.796291\n",
      "film        3.829284\n",
      "movie       3.927944\n",
      "it          4.380901\n",
      "one         4.477473\n",
      "its         4.503470\n",
      "like        4.645675\n",
      "and         4.656686\n",
      "an          4.694639\n",
      "is          4.796347\n",
      "good        4.818583\n",
      "be          4.835290\n",
      "story       4.875811\n",
      "this        4.945879\n",
      "rrb         5.070997\n",
      "funny       5.075577\n",
      "characters  5.097233\n",
      "comedy      5.126589\n",
      "to          5.133051\n",
      "lrb         5.155174\n",
      "Label 0:\n",
      "               tfidf\n",
      "the         2.761252\n",
      "movie       3.741244\n",
      "film        3.978675\n",
      "it          4.189152\n",
      "like        4.311754\n",
      "its         4.453336\n",
      "one         4.496133\n",
      "be          4.645542\n",
      "is          4.672389\n",
      "and         4.686088\n",
      "bad         4.711701\n",
      "not         4.731952\n",
      "this        4.746497\n",
      "much        4.893551\n",
      "story       4.904931\n",
      "an          4.907796\n",
      "characters  5.007276\n",
      "rrb         5.018431\n",
      "little      5.057652\n",
      "of          5.072765\n",
      "Label 1:\n",
      "           tfidf\n",
      "the     2.825890\n",
      "film    3.721030\n",
      "movie   4.112037\n",
      "one     4.461674\n",
      "good    4.511143\n",
      "its     4.545810\n",
      "an      4.547452\n",
      "it      4.570728\n",
      "and     4.632300\n",
      "funny   4.759970\n",
      "story   4.851426\n",
      "well    4.890024\n",
      "is      4.909896\n",
      "best    5.006505\n",
      "be      5.022233\n",
      "like    5.038212\n",
      "comedy  5.069571\n",
      "life    5.094818\n",
      "rrb     5.114905\n",
      "love    5.119262\n"
     ]
    }
   ],
   "source": [
    "n = 20\n",
    "print(\"The\", n ,\"most common word overall and within the two label.\")\n",
    "print(\"Overall:\")\n",
    "print(train.textTfidfValues(train.texts[5:])[:n])\n",
    "# print(\"Label 0:\")\n",
    "# print(train.textTfidfValues(train.textsL0).iloc[:n])\n",
    "# print(\"Label 1:\")\n",
    "# print(train.textTfidfValues(train.textsL1).iloc[:n])"
   ]
  },
  {
   "cell_type": "code",
   "execution_count": 129,
   "metadata": {},
   "outputs": [
    {
     "output_type": "stream",
     "name": "stdout",
     "text": [
      "Whole database\n",
      "        tfidf\n",
      "the  2.210299\n",
      "and  2.367068\n",
      "of   2.490469\n",
      "to   2.807791\n",
      "is   3.125087\n",
      "             tfidf\n",
      "of the    4.053253\n",
      "in the    4.658701\n",
      "the film  4.880207\n",
      "to the    5.155174\n",
      "to be     5.196617\n",
      "                 tfidf\n",
      "one of the    6.096209\n",
      "the film is   6.918348\n",
      "the kind of   7.009320\n",
      "the movie is  7.086281\n",
      "of the year   7.103573\n"
     ]
    }
   ],
   "source": [
    "# Get the n-grams\n",
    "print(\"Whole database\")\n",
    "train.nGrams(train.texts, 1, 4, 5)"
   ]
  },
  {
   "cell_type": "code",
   "execution_count": 130,
   "metadata": {},
   "outputs": [
    {
     "output_type": "stream",
     "name": "stdout",
     "text": [
      "Label 1 sentences\n",
      "        tfidf\n",
      "the  2.228244\n",
      "and  2.294130\n",
      "of   2.487614\n",
      "to   2.936536\n",
      "is   3.195215\n",
      "             tfidf\n",
      "of the    3.997627\n",
      "in the    4.694099\n",
      "the film  4.920578\n",
      "to the    5.166961\n",
      "and the   5.273170\n",
      "                tfidf\n",
      "one of the   5.771063\n",
      "the film is  6.724343\n",
      "of the year  6.807409\n",
      "of the most  6.906664\n",
      "of the best  6.933097\n"
     ]
    }
   ],
   "source": [
    "# Get the n-grams of Label 1\n",
    "print(\"Label 1 sentences\")\n",
    "train.nGrams(train.textsL1, 1, 4, 5)"
   ]
  },
  {
   "cell_type": "code",
   "execution_count": 131,
   "metadata": {},
   "outputs": [
    {
     "output_type": "stream",
     "name": "stdout",
     "text": [
      "Label 0 sentences\n",
      "        tfidf\n",
      "the  2.188806\n",
      "and  2.463642\n",
      "of   2.493857\n",
      "to   2.670419\n",
      "is   3.045642\n",
      "              tfidf\n",
      "of the     4.124832\n",
      "in the     4.616176\n",
      "the film   4.831845\n",
      "to be      5.060991\n",
      "the movie  5.115987\n",
      "                 tfidf\n",
      "the movie is  6.610394\n",
      "one of the    6.718383\n",
      "of the film   6.900705\n",
      "the kind of   7.097873\n",
      "of its own    7.137093\n"
     ]
    }
   ],
   "source": [
    "# Get the n-grams of Label 0\n",
    "print(\"Label 0 sentences\")\n",
    "train.nGrams(train.textsL0, 1, 4, 5)"
   ]
  },
  {
   "cell_type": "code",
   "execution_count": 211,
   "metadata": {},
   "outputs": [
    {
     "output_type": "stream",
     "name": "stdout",
     "text": [
      "          length    labels\nlength  1.000000 -0.037769\nlabels -0.037769  1.000000\n"
     ]
    }
   ],
   "source": [
    "train.lengthCorrelation()"
   ]
  },
  {
   "cell_type": "code",
   "execution_count": 249,
   "metadata": {},
   "outputs": [],
   "source": [
    "import os\n",
    "import json\n",
    "import pandas as pd\n",
    "import gzip\n",
    "from urllib.request import urlopen\n",
    "\n",
    "###################\n",
    "## Amazon Review ##\n",
    "###################\n",
    "\n",
    "# Load in the Amazon Review Data with 5-core\n",
    "def parse(path):\n",
    "  g = gzip.open(path, 'rb')\n",
    "  for l in g:\n",
    "    yield json.loads(l)\n",
    "\n",
    "def getDF(path):\n",
    "  i = 0\n",
    "  df = {}\n",
    "  for d in parse(path):\n",
    "    df[i] = d\n",
    "    i += 1\n",
    "  return pd.DataFrame.from_dict(df, orient='index')\n",
    "\n",
    "df = getDF('Software_5.json.gz')\n",
    "df = df.fillna('')\n",
    "# print('shape', df.shape)\n",
    "\n",
    "products = df[\"asin\"].drop_duplicates()\n",
    "reviewers = df[\"reviewerID\"].drop_duplicates()\n",
    "# print('Products\\n',products)\n",
    "# print('Reviewers\\n',reviewers)\n",
    "\n",
    "# df.loc[df['reviewerID'] == ]"
   ]
  },
  {
   "cell_type": "code",
   "execution_count": 250,
   "metadata": {},
   "outputs": [
    {
     "output_type": "execute_result",
     "data": {
      "text/plain": [
       "   overall  verified   reviewTime      reviewerID        asin  \\\n",
       "0      4.0     False  10 20, 2010  A38NELQT98S4H8  0321719816   \n",
       "1      4.0     False  10 18, 2010  A3QJU4FEN8PQSZ  0321719816   \n",
       "2      5.0     False  10 16, 2010   ACJT8MUC0LRF0  0321719816   \n",
       "3      5.0     False  10 12, 2010   AYUF7YETYOLNX  0321719816   \n",
       "4      5.0     False   10 7, 2010  A31ICLWQ9CSHRS  0321719816   \n",
       "\n",
       "                     style  reviewerName  \\\n",
       "0  {'Format:': ' DVD-ROM'}     WB Halper   \n",
       "1  {'Format:': ' DVD-ROM'}        Grimmy   \n",
       "2  {'Format:': ' DVD-ROM'}     D. Fowler   \n",
       "3  {'Format:': ' DVD-ROM'}  Bryan Newman   \n",
       "4  {'Format:': ' DVD-ROM'}    Al Swanson   \n",
       "\n",
       "                                          reviewText  \\\n",
       "0  I've been using Dreamweaver (and it's predeces...   \n",
       "1  The demo is done with the PC version, with ref...   \n",
       "2  If you've been wanting to learn how to create ...   \n",
       "3  I've been creating websites with Dreamweaver f...   \n",
       "4  I decided (after trying a number of other prod...   \n",
       "\n",
       "                                             summary  unixReviewTime vote  \\\n",
       "0                A solid overview of Dreamweaver CS5      1287532800        \n",
       "1                                       A good value      1287360000        \n",
       "2  This is excellent software for those who want ...      1287187200    3   \n",
       "3  A Fantastic Overview of Dream Weaver and Web D...      1286841600        \n",
       "4                               Excellent Tutorials!      1286409600        \n",
       "\n",
       "  image  \n",
       "0        \n",
       "1        \n",
       "2        \n",
       "3        \n",
       "4        "
      ],
      "text/html": "<div>\n<style scoped>\n    .dataframe tbody tr th:only-of-type {\n        vertical-align: middle;\n    }\n\n    .dataframe tbody tr th {\n        vertical-align: top;\n    }\n\n    .dataframe thead th {\n        text-align: right;\n    }\n</style>\n<table border=\"1\" class=\"dataframe\">\n  <thead>\n    <tr style=\"text-align: right;\">\n      <th></th>\n      <th>overall</th>\n      <th>verified</th>\n      <th>reviewTime</th>\n      <th>reviewerID</th>\n      <th>asin</th>\n      <th>style</th>\n      <th>reviewerName</th>\n      <th>reviewText</th>\n      <th>summary</th>\n      <th>unixReviewTime</th>\n      <th>vote</th>\n      <th>image</th>\n    </tr>\n  </thead>\n  <tbody>\n    <tr>\n      <th>0</th>\n      <td>4.0</td>\n      <td>False</td>\n      <td>10 20, 2010</td>\n      <td>A38NELQT98S4H8</td>\n      <td>0321719816</td>\n      <td>{'Format:': ' DVD-ROM'}</td>\n      <td>WB Halper</td>\n      <td>I've been using Dreamweaver (and it's predeces...</td>\n      <td>A solid overview of Dreamweaver CS5</td>\n      <td>1287532800</td>\n      <td></td>\n      <td></td>\n    </tr>\n    <tr>\n      <th>1</th>\n      <td>4.0</td>\n      <td>False</td>\n      <td>10 18, 2010</td>\n      <td>A3QJU4FEN8PQSZ</td>\n      <td>0321719816</td>\n      <td>{'Format:': ' DVD-ROM'}</td>\n      <td>Grimmy</td>\n      <td>The demo is done with the PC version, with ref...</td>\n      <td>A good value</td>\n      <td>1287360000</td>\n      <td></td>\n      <td></td>\n    </tr>\n    <tr>\n      <th>2</th>\n      <td>5.0</td>\n      <td>False</td>\n      <td>10 16, 2010</td>\n      <td>ACJT8MUC0LRF0</td>\n      <td>0321719816</td>\n      <td>{'Format:': ' DVD-ROM'}</td>\n      <td>D. Fowler</td>\n      <td>If you've been wanting to learn how to create ...</td>\n      <td>This is excellent software for those who want ...</td>\n      <td>1287187200</td>\n      <td>3</td>\n      <td></td>\n    </tr>\n    <tr>\n      <th>3</th>\n      <td>5.0</td>\n      <td>False</td>\n      <td>10 12, 2010</td>\n      <td>AYUF7YETYOLNX</td>\n      <td>0321719816</td>\n      <td>{'Format:': ' DVD-ROM'}</td>\n      <td>Bryan Newman</td>\n      <td>I've been creating websites with Dreamweaver f...</td>\n      <td>A Fantastic Overview of Dream Weaver and Web D...</td>\n      <td>1286841600</td>\n      <td></td>\n      <td></td>\n    </tr>\n    <tr>\n      <th>4</th>\n      <td>5.0</td>\n      <td>False</td>\n      <td>10 7, 2010</td>\n      <td>A31ICLWQ9CSHRS</td>\n      <td>0321719816</td>\n      <td>{'Format:': ' DVD-ROM'}</td>\n      <td>Al Swanson</td>\n      <td>I decided (after trying a number of other prod...</td>\n      <td>Excellent Tutorials!</td>\n      <td>1286409600</td>\n      <td></td>\n      <td></td>\n    </tr>\n  </tbody>\n</table>\n</div>"
     },
     "metadata": {},
     "execution_count": 250
    }
   ],
   "source": [
    "df.head()"
   ]
  },
  {
   "cell_type": "code",
   "execution_count": 337,
   "metadata": {},
   "outputs": [
    {
     "output_type": "execute_result",
     "data": {
      "text/plain": [
       "   overall  verified   reviewTime      reviewerID        asin  \\\n",
       "0      4.0     False  10 20, 2010  A38NELQT98S4H8  0321719816   \n",
       "1      4.0     False  10 18, 2010  A3QJU4FEN8PQSZ  0321719816   \n",
       "2      5.0     False  10 16, 2010   ACJT8MUC0LRF0  0321719816   \n",
       "3      5.0     False  10 12, 2010   AYUF7YETYOLNX  0321719816   \n",
       "4      5.0     False   10 7, 2010  A31ICLWQ9CSHRS  0321719816   \n",
       "\n",
       "                     style  reviewerName  \\\n",
       "0  {'Format:': ' DVD-ROM'}     WB Halper   \n",
       "1  {'Format:': ' DVD-ROM'}        Grimmy   \n",
       "2  {'Format:': ' DVD-ROM'}     D. Fowler   \n",
       "3  {'Format:': ' DVD-ROM'}  Bryan Newman   \n",
       "4  {'Format:': ' DVD-ROM'}    Al Swanson   \n",
       "\n",
       "                                          reviewText  \\\n",
       "0  I've been using Dreamweaver (and it's predeces...   \n",
       "1  The demo is done with the PC version, with ref...   \n",
       "2  If you've been wanting to learn how to create ...   \n",
       "3  I've been creating websites with Dreamweaver f...   \n",
       "4  I decided (after trying a number of other prod...   \n",
       "\n",
       "                                             summary  unixReviewTime vote  \\\n",
       "0                A solid overview of Dreamweaver CS5      1287532800        \n",
       "1                                       A good value      1287360000        \n",
       "2  This is excellent software for those who want ...      1287187200    3   \n",
       "3  A Fantastic Overview of Dream Weaver and Web D...      1286841600        \n",
       "4                               Excellent Tutorials!      1286409600        \n",
       "\n",
       "  image  \n",
       "0        \n",
       "1        \n",
       "2        \n",
       "3        \n",
       "4        "
      ],
      "text/html": "<div>\n<style scoped>\n    .dataframe tbody tr th:only-of-type {\n        vertical-align: middle;\n    }\n\n    .dataframe tbody tr th {\n        vertical-align: top;\n    }\n\n    .dataframe thead th {\n        text-align: right;\n    }\n</style>\n<table border=\"1\" class=\"dataframe\">\n  <thead>\n    <tr style=\"text-align: right;\">\n      <th></th>\n      <th>overall</th>\n      <th>verified</th>\n      <th>reviewTime</th>\n      <th>reviewerID</th>\n      <th>asin</th>\n      <th>style</th>\n      <th>reviewerName</th>\n      <th>reviewText</th>\n      <th>summary</th>\n      <th>unixReviewTime</th>\n      <th>vote</th>\n      <th>image</th>\n    </tr>\n  </thead>\n  <tbody>\n    <tr>\n      <th>0</th>\n      <td>4.0</td>\n      <td>False</td>\n      <td>10 20, 2010</td>\n      <td>A38NELQT98S4H8</td>\n      <td>0321719816</td>\n      <td>{'Format:': ' DVD-ROM'}</td>\n      <td>WB Halper</td>\n      <td>I've been using Dreamweaver (and it's predeces...</td>\n      <td>A solid overview of Dreamweaver CS5</td>\n      <td>1287532800</td>\n      <td></td>\n      <td></td>\n    </tr>\n    <tr>\n      <th>1</th>\n      <td>4.0</td>\n      <td>False</td>\n      <td>10 18, 2010</td>\n      <td>A3QJU4FEN8PQSZ</td>\n      <td>0321719816</td>\n      <td>{'Format:': ' DVD-ROM'}</td>\n      <td>Grimmy</td>\n      <td>The demo is done with the PC version, with ref...</td>\n      <td>A good value</td>\n      <td>1287360000</td>\n      <td></td>\n      <td></td>\n    </tr>\n    <tr>\n      <th>2</th>\n      <td>5.0</td>\n      <td>False</td>\n      <td>10 16, 2010</td>\n      <td>ACJT8MUC0LRF0</td>\n      <td>0321719816</td>\n      <td>{'Format:': ' DVD-ROM'}</td>\n      <td>D. Fowler</td>\n      <td>If you've been wanting to learn how to create ...</td>\n      <td>This is excellent software for those who want ...</td>\n      <td>1287187200</td>\n      <td>3</td>\n      <td></td>\n    </tr>\n    <tr>\n      <th>3</th>\n      <td>5.0</td>\n      <td>False</td>\n      <td>10 12, 2010</td>\n      <td>AYUF7YETYOLNX</td>\n      <td>0321719816</td>\n      <td>{'Format:': ' DVD-ROM'}</td>\n      <td>Bryan Newman</td>\n      <td>I've been creating websites with Dreamweaver f...</td>\n      <td>A Fantastic Overview of Dream Weaver and Web D...</td>\n      <td>1286841600</td>\n      <td></td>\n      <td></td>\n    </tr>\n    <tr>\n      <th>4</th>\n      <td>5.0</td>\n      <td>False</td>\n      <td>10 7, 2010</td>\n      <td>A31ICLWQ9CSHRS</td>\n      <td>0321719816</td>\n      <td>{'Format:': ' DVD-ROM'}</td>\n      <td>Al Swanson</td>\n      <td>I decided (after trying a number of other prod...</td>\n      <td>Excellent Tutorials!</td>\n      <td>1286409600</td>\n      <td></td>\n      <td></td>\n    </tr>\n  </tbody>\n</table>\n</div>"
     },
     "metadata": {},
     "execution_count": 337
    }
   ],
   "source": [
    "df.loc[df[\"asin\"] == '0321719816'].head()"
   ]
  },
  {
   "cell_type": "code",
   "execution_count": 392,
   "metadata": {
    "tags": []
   },
   "outputs": [
    {
     "output_type": "stream",
     "name": "stdout",
     "text": [
      "in\n4.0\n4.0\nperson1: A38NELQT98S4H8 person2: A3QJU4FEN8PQSZ score: 0.0\n"
     ]
    }
   ],
   "source": [
    "import math \n",
    "\n",
    "# i = 0\n",
    "# userOwnReviews = []\n",
    "# for person in reviewers.values:\n",
    "#     i += 1\n",
    "#     # print(person)\n",
    "#     # itemsReviewed = df.loc[df[\"reviewerID\"] == person][['asin','overall','reviewerName']]\n",
    "#     itemsReviewed = df.loc[df[\"reviewerID\"] == person][['asin','overall']]\n",
    "#     print(itemsReviewed.head())\n",
    "#     if i > 5:\n",
    "#         break\n",
    "\n",
    "def simularityScore(person1,person2):\n",
    "    # Movies and scores\n",
    "    u1Reviews = df.loc[df[\"reviewerID\"] == person1][['asin','overall']]\n",
    "    u2Reviews = df.loc[df[\"reviewerID\"] == person2][['asin','overall']]\n",
    "    \n",
    "    eDiff = 0\n",
    "    # looping through each movie\n",
    "    for movie in u1Reviews.values:\n",
    "        # print(movie[0])\n",
    "        # print(u2Reviews['asin'].values)\n",
    "        # if there is a match, then calculating the square difference\n",
    "        if movie[0] in u2Reviews['asin'].values:\n",
    "            print(\"in\")\n",
    "            u1score = u1Reviews.loc[u1Reviews[\"asin\"] == movie[0]]['overall'].values[0]\n",
    "            print(u1score)\n",
    "            u2score = u2Reviews.loc[u2Reviews[\"asin\"] == movie[0]]['overall'].values[0]\n",
    "            print(u2score)\n",
    "            diff = u1score - u2score\n",
    "            eDiff += diff**2\n",
    "\n",
    "    # returning it\n",
    "    return math.sqrt(eDiff)\n",
    "\n",
    "# for person1 in reviewers.values:\n",
    "#     for person2 in reviewers.values:\n",
    "#         if person1 != person2:\n",
    "#             print(\"person1:\", person1, \"person2:\", person2, \"score:\",simularityScore(person1,person2))\n",
    "person1 = \"A38NELQT98S4H8\"\n",
    "person2 = \"A3QJU4FEN8PQSZ\"\n",
    "# u1Reviews = df.loc[df[\"reviewerID\"] == person1][['asin','overall']]\n",
    "# u2Reviews = df.loc[df[\"reviewerID\"] == person2][['asin','overall']]\n",
    "# if \"0321719816\" in u1Reviews['asin'].values:\n",
    "#     print(\"done\",u2Reviews[u2Reviews['asin'] == \"032171981\"]['overall'].values[0])\n",
    "# else:\n",
    "#     print(\"nope\",u1Reviews['asin'].values)\n",
    "print(\"person1:\", person1, \"person2:\", person2, \"score:\", simularityScore(person1,person2))\n",
    "\n",
    "# df.loc[df[\"reviewerID\"] == 'A38NELQT98S4H8'][['asin','overall']].head()\n",
    "# df.loc[df[\"reviewerID\"] == 'A3QJU4FEN8PQSZ'][['asin','overall']].head()"
   ]
  },
  {
   "cell_type": "code",
   "execution_count": 362,
   "metadata": {},
   "outputs": [
    {
     "output_type": "execute_result",
     "data": {
      "text/plain": [
       "4.0"
      ]
     },
     "metadata": {},
     "execution_count": 362
    }
   ],
   "source": []
  },
  {
   "cell_type": "code",
   "execution_count": 222,
   "metadata": {},
   "outputs": [
    {
     "output_type": "execute_result",
     "data": {
      "text/plain": [
       "       overall  verified   reviewTime      reviewerID        asin  \\\n",
       "0          4.0     False  10 20, 2010  A38NELQT98S4H8  0321719816   \n",
       "2201       4.0     False  10 14, 2009  A38NELQT98S4H8  B000XHE0Q0   \n",
       "3015       4.0     False  10 14, 2009  A38NELQT98S4H8  B000XHE0Q0   \n",
       "4705       1.0     False  06 24, 2010  A38NELQT98S4H8  B003HCA7GA   \n",
       "7575       5.0     False  10 17, 2013  A38NELQT98S4H8  B00DT04I9W   \n",
       "8360       5.0     False  12 31, 2013  A38NELQT98S4H8  B00F2BA8U4   \n",
       "9248       4.0     False   08 3, 2014  A38NELQT98S4H8  B00JZNHU88   \n",
       "10330      4.0     False  12 29, 2014  A38NELQT98S4H8  B00OW2PHDM   \n",
       "11624      4.0     False  05 16, 2016  A38NELQT98S4H8  B015PIIGQ6   \n",
       "\n",
       "                                style reviewerName  \\\n",
       "0             {'Format:': ' DVD-ROM'}    WB Halper   \n",
       "2201                                     WB Halper   \n",
       "3015                                     WB Halper   \n",
       "4705                                     WB Halper   \n",
       "7575    {'Platform:': ' PC/Mac Disc'}    WB Halper   \n",
       "8360                                     WB Halper   \n",
       "9248   {'Format:': ' Misc. Supplies'}    WB Halper   \n",
       "10330            {'Platform:': ' PC'}    WB Halper   \n",
       "11624        {'Format:': ' Software'}    WB Halper   \n",
       "\n",
       "                                              reviewText  \\\n",
       "0      I've been using Dreamweaver (and it's predeces...   \n",
       "2201   ...that hasn't already been said?\\n\\nIf you're...   \n",
       "3015   ...that hasn't already been said?\\n\\nIf you're...   \n",
       "4705   Final Update - On February 1, 2011, I went to ...   \n",
       "7575   I've been playing with painter since it came o...   \n",
       "8360   I have been a user of Lightroom for several ye...   \n",
       "9248   This is basically Norton Internet Security wit...   \n",
       "10330  I have many old 8mm video tapes that were made...   \n",
       "11624  I've been using this to convert old family vid...   \n",
       "\n",
       "                                                 summary  unixReviewTime vote  \\\n",
       "0                    A solid overview of Dreamweaver CS5      1287532800        \n",
       "2201          What can you say about Microsoft Office...      1255478400        \n",
       "3015          What can you say about Microsoft Office...      1255478400        \n",
       "4705   Not quite ready for prime time...and now it ne...      1277337600   47   \n",
       "7575                                 Flippin' Phenominal      1381968000    2   \n",
       "8360       A worthwhile competitor for Adobe's Lightroom      1388448000   11   \n",
       "9248            Easy to install on mutiple computers....      1407024000        \n",
       "10330               Using it to transcribe old videos...      1419811200    5   \n",
       "11624  Works beautifully to convert and clean up old ...      1463356800        \n",
       "\n",
       "      image  \n",
       "0            \n",
       "2201         \n",
       "3015         \n",
       "4705         \n",
       "7575         \n",
       "8360         \n",
       "9248         \n",
       "10330        \n",
       "11624        "
      ],
      "text/html": "<div>\n<style scoped>\n    .dataframe tbody tr th:only-of-type {\n        vertical-align: middle;\n    }\n\n    .dataframe tbody tr th {\n        vertical-align: top;\n    }\n\n    .dataframe thead th {\n        text-align: right;\n    }\n</style>\n<table border=\"1\" class=\"dataframe\">\n  <thead>\n    <tr style=\"text-align: right;\">\n      <th></th>\n      <th>overall</th>\n      <th>verified</th>\n      <th>reviewTime</th>\n      <th>reviewerID</th>\n      <th>asin</th>\n      <th>style</th>\n      <th>reviewerName</th>\n      <th>reviewText</th>\n      <th>summary</th>\n      <th>unixReviewTime</th>\n      <th>vote</th>\n      <th>image</th>\n    </tr>\n  </thead>\n  <tbody>\n    <tr>\n      <th>0</th>\n      <td>4.0</td>\n      <td>False</td>\n      <td>10 20, 2010</td>\n      <td>A38NELQT98S4H8</td>\n      <td>0321719816</td>\n      <td>{'Format:': ' DVD-ROM'}</td>\n      <td>WB Halper</td>\n      <td>I've been using Dreamweaver (and it's predeces...</td>\n      <td>A solid overview of Dreamweaver CS5</td>\n      <td>1287532800</td>\n      <td></td>\n      <td></td>\n    </tr>\n    <tr>\n      <th>2201</th>\n      <td>4.0</td>\n      <td>False</td>\n      <td>10 14, 2009</td>\n      <td>A38NELQT98S4H8</td>\n      <td>B000XHE0Q0</td>\n      <td></td>\n      <td>WB Halper</td>\n      <td>...that hasn't already been said?\\n\\nIf you're...</td>\n      <td>What can you say about Microsoft Office...</td>\n      <td>1255478400</td>\n      <td></td>\n      <td></td>\n    </tr>\n    <tr>\n      <th>3015</th>\n      <td>4.0</td>\n      <td>False</td>\n      <td>10 14, 2009</td>\n      <td>A38NELQT98S4H8</td>\n      <td>B000XHE0Q0</td>\n      <td></td>\n      <td>WB Halper</td>\n      <td>...that hasn't already been said?\\n\\nIf you're...</td>\n      <td>What can you say about Microsoft Office...</td>\n      <td>1255478400</td>\n      <td></td>\n      <td></td>\n    </tr>\n    <tr>\n      <th>4705</th>\n      <td>1.0</td>\n      <td>False</td>\n      <td>06 24, 2010</td>\n      <td>A38NELQT98S4H8</td>\n      <td>B003HCA7GA</td>\n      <td></td>\n      <td>WB Halper</td>\n      <td>Final Update - On February 1, 2011, I went to ...</td>\n      <td>Not quite ready for prime time...and now it ne...</td>\n      <td>1277337600</td>\n      <td>47</td>\n      <td></td>\n    </tr>\n    <tr>\n      <th>7575</th>\n      <td>5.0</td>\n      <td>False</td>\n      <td>10 17, 2013</td>\n      <td>A38NELQT98S4H8</td>\n      <td>B00DT04I9W</td>\n      <td>{'Platform:': ' PC/Mac Disc'}</td>\n      <td>WB Halper</td>\n      <td>I've been playing with painter since it came o...</td>\n      <td>Flippin' Phenominal</td>\n      <td>1381968000</td>\n      <td>2</td>\n      <td></td>\n    </tr>\n    <tr>\n      <th>8360</th>\n      <td>5.0</td>\n      <td>False</td>\n      <td>12 31, 2013</td>\n      <td>A38NELQT98S4H8</td>\n      <td>B00F2BA8U4</td>\n      <td></td>\n      <td>WB Halper</td>\n      <td>I have been a user of Lightroom for several ye...</td>\n      <td>A worthwhile competitor for Adobe's Lightroom</td>\n      <td>1388448000</td>\n      <td>11</td>\n      <td></td>\n    </tr>\n    <tr>\n      <th>9248</th>\n      <td>4.0</td>\n      <td>False</td>\n      <td>08 3, 2014</td>\n      <td>A38NELQT98S4H8</td>\n      <td>B00JZNHU88</td>\n      <td>{'Format:': ' Misc. Supplies'}</td>\n      <td>WB Halper</td>\n      <td>This is basically Norton Internet Security wit...</td>\n      <td>Easy to install on mutiple computers....</td>\n      <td>1407024000</td>\n      <td></td>\n      <td></td>\n    </tr>\n    <tr>\n      <th>10330</th>\n      <td>4.0</td>\n      <td>False</td>\n      <td>12 29, 2014</td>\n      <td>A38NELQT98S4H8</td>\n      <td>B00OW2PHDM</td>\n      <td>{'Platform:': ' PC'}</td>\n      <td>WB Halper</td>\n      <td>I have many old 8mm video tapes that were made...</td>\n      <td>Using it to transcribe old videos...</td>\n      <td>1419811200</td>\n      <td>5</td>\n      <td></td>\n    </tr>\n    <tr>\n      <th>11624</th>\n      <td>4.0</td>\n      <td>False</td>\n      <td>05 16, 2016</td>\n      <td>A38NELQT98S4H8</td>\n      <td>B015PIIGQ6</td>\n      <td>{'Format:': ' Software'}</td>\n      <td>WB Halper</td>\n      <td>I've been using this to convert old family vid...</td>\n      <td>Works beautifully to convert and clean up old ...</td>\n      <td>1463356800</td>\n      <td></td>\n      <td></td>\n    </tr>\n  </tbody>\n</table>\n</div>"
     },
     "metadata": {},
     "execution_count": 222
    }
   ],
   "source": [
    "df.loc[df['reviewerID'] == 'A38NELQT98S4H8']"
   ]
  },
  {
   "cell_type": "code",
   "execution_count": 225,
   "metadata": {},
   "outputs": [
    {
     "output_type": "execute_result",
     "data": {
      "text/plain": [
       "       overall  verified   reviewTime      reviewerID        asin  \\\n",
       "0          4.0     False  10 20, 2010  A38NELQT98S4H8  0321719816   \n",
       "1          4.0     False  10 18, 2010  A3QJU4FEN8PQSZ  0321719816   \n",
       "2          5.0     False  10 16, 2010   ACJT8MUC0LRF0  0321719816   \n",
       "3          5.0     False  10 12, 2010   AYUF7YETYOLNX  0321719816   \n",
       "4          5.0     False   10 7, 2010  A31ICLWQ9CSHRS  0321719816   \n",
       "5          5.0     False  09 26, 2010  A2BVNVJOFXGZUB  0321719816   \n",
       "6          5.0     False   04 7, 2011  A2JMJVNTBL7K7E  0321719816   \n",
       "7          5.0     False   01 8, 2011  A14JBDSWKPKTZA  0321719816   \n",
       "8          5.0     False  10 28, 2010  A2WCFDOCS73PNB  0321719816   \n",
       "9          5.0     False  10 28, 2010  A14638TGYH7GD9  0321719816   \n",
       "10         3.0     False  10 21, 2010  A2VWE5SGNDS8HW  0321719816   \n",
       "12189      4.0     False   05 9, 2013  A2FRAS05LEI6JJ  0321719816   \n",
       "12190      4.0     False  11 16, 2012  A3M1PA1C98XNGN  0321719816   \n",
       "12191      5.0     False  05 14, 2012   AMRMK86X3PKXD  0321719816   \n",
       "\n",
       "                         style      reviewerName  \\\n",
       "0      {'Format:': ' DVD-ROM'}         WB Halper   \n",
       "1      {'Format:': ' DVD-ROM'}            Grimmy   \n",
       "2      {'Format:': ' DVD-ROM'}         D. Fowler   \n",
       "3      {'Format:': ' DVD-ROM'}      Bryan Newman   \n",
       "4      {'Format:': ' DVD-ROM'}        Al Swanson   \n",
       "5      {'Format:': ' DVD-ROM'}         J. Howard   \n",
       "6      {'Format:': ' DVD-ROM'}        Yesuaini99   \n",
       "7      {'Format:': ' DVD-ROM'}        Bob Feeser   \n",
       "8      {'Format:': ' DVD-ROM'}         Gadgetman   \n",
       "9      {'Format:': ' DVD-ROM'}     Rebecca Haden   \n",
       "10     {'Format:': ' DVD-ROM'}            tachi1   \n",
       "12189  {'Format:': ' DVD-ROM'}             Sadie   \n",
       "12190  {'Format:': ' DVD-ROM'}  Elizabeth Slater   \n",
       "12191  {'Format:': ' DVD-ROM'}   Kindle Customer   \n",
       "\n",
       "                                              reviewText  \\\n",
       "0      I've been using Dreamweaver (and it's predeces...   \n",
       "1      The demo is done with the PC version, with ref...   \n",
       "2      If you've been wanting to learn how to create ...   \n",
       "3      I've been creating websites with Dreamweaver f...   \n",
       "4      I decided (after trying a number of other prod...   \n",
       "5      The video is well-paced and delivered in an un...   \n",
       "6      I spent several hours on the lesson and I love...   \n",
       "7      I have had Dreamweaver MX2004 since it came ou...   \n",
       "8      I have also taken a local community college on...   \n",
       "9      Even though I use Dreamweaver a great deal and...   \n",
       "10     I waited to complete the entire course before ...   \n",
       "12189  I've wanted to design my own webpage for ages....   \n",
       "12190  All this product contains is training on how t...   \n",
       "12191  I've been teaching media at the college level ...   \n",
       "\n",
       "                                                 summary  unixReviewTime vote  \\\n",
       "0                    A solid overview of Dreamweaver CS5      1287532800        \n",
       "1                                           A good value      1287360000        \n",
       "2      This is excellent software for those who want ...      1287187200    3   \n",
       "3      A Fantastic Overview of Dream Weaver and Web D...      1286841600        \n",
       "4                                   Excellent Tutorials!      1286409600        \n",
       "5                                             Excellent.      1285459200        \n",
       "6                      excellent video training material      1302134400        \n",
       "7           Great Video for a Difficult at Times Program      1294444800        \n",
       "8                          Excellent value for the price      1288224000    4   \n",
       "9                 Buy this with your copy of Dreamweaver      1288224000    6   \n",
       "10     Competent introduction to Dreamweaver and web ...      1287619200   22   \n",
       "12189             Good tutorial for Dreamweaver software      1368057600        \n",
       "12190                                        Dreamweaver      1353024000        \n",
       "12191                               A Great Introduction      1336953600        \n",
       "\n",
       "      image  \n",
       "0            \n",
       "1            \n",
       "2            \n",
       "3            \n",
       "4            \n",
       "5            \n",
       "6            \n",
       "7            \n",
       "8            \n",
       "9            \n",
       "10           \n",
       "12189        \n",
       "12190        \n",
       "12191        "
      ],
      "text/html": "<div>\n<style scoped>\n    .dataframe tbody tr th:only-of-type {\n        vertical-align: middle;\n    }\n\n    .dataframe tbody tr th {\n        vertical-align: top;\n    }\n\n    .dataframe thead th {\n        text-align: right;\n    }\n</style>\n<table border=\"1\" class=\"dataframe\">\n  <thead>\n    <tr style=\"text-align: right;\">\n      <th></th>\n      <th>overall</th>\n      <th>verified</th>\n      <th>reviewTime</th>\n      <th>reviewerID</th>\n      <th>asin</th>\n      <th>style</th>\n      <th>reviewerName</th>\n      <th>reviewText</th>\n      <th>summary</th>\n      <th>unixReviewTime</th>\n      <th>vote</th>\n      <th>image</th>\n    </tr>\n  </thead>\n  <tbody>\n    <tr>\n      <th>0</th>\n      <td>4.0</td>\n      <td>False</td>\n      <td>10 20, 2010</td>\n      <td>A38NELQT98S4H8</td>\n      <td>0321719816</td>\n      <td>{'Format:': ' DVD-ROM'}</td>\n      <td>WB Halper</td>\n      <td>I've been using Dreamweaver (and it's predeces...</td>\n      <td>A solid overview of Dreamweaver CS5</td>\n      <td>1287532800</td>\n      <td></td>\n      <td></td>\n    </tr>\n    <tr>\n      <th>1</th>\n      <td>4.0</td>\n      <td>False</td>\n      <td>10 18, 2010</td>\n      <td>A3QJU4FEN8PQSZ</td>\n      <td>0321719816</td>\n      <td>{'Format:': ' DVD-ROM'}</td>\n      <td>Grimmy</td>\n      <td>The demo is done with the PC version, with ref...</td>\n      <td>A good value</td>\n      <td>1287360000</td>\n      <td></td>\n      <td></td>\n    </tr>\n    <tr>\n      <th>2</th>\n      <td>5.0</td>\n      <td>False</td>\n      <td>10 16, 2010</td>\n      <td>ACJT8MUC0LRF0</td>\n      <td>0321719816</td>\n      <td>{'Format:': ' DVD-ROM'}</td>\n      <td>D. Fowler</td>\n      <td>If you've been wanting to learn how to create ...</td>\n      <td>This is excellent software for those who want ...</td>\n      <td>1287187200</td>\n      <td>3</td>\n      <td></td>\n    </tr>\n    <tr>\n      <th>3</th>\n      <td>5.0</td>\n      <td>False</td>\n      <td>10 12, 2010</td>\n      <td>AYUF7YETYOLNX</td>\n      <td>0321719816</td>\n      <td>{'Format:': ' DVD-ROM'}</td>\n      <td>Bryan Newman</td>\n      <td>I've been creating websites with Dreamweaver f...</td>\n      <td>A Fantastic Overview of Dream Weaver and Web D...</td>\n      <td>1286841600</td>\n      <td></td>\n      <td></td>\n    </tr>\n    <tr>\n      <th>4</th>\n      <td>5.0</td>\n      <td>False</td>\n      <td>10 7, 2010</td>\n      <td>A31ICLWQ9CSHRS</td>\n      <td>0321719816</td>\n      <td>{'Format:': ' DVD-ROM'}</td>\n      <td>Al Swanson</td>\n      <td>I decided (after trying a number of other prod...</td>\n      <td>Excellent Tutorials!</td>\n      <td>1286409600</td>\n      <td></td>\n      <td></td>\n    </tr>\n    <tr>\n      <th>5</th>\n      <td>5.0</td>\n      <td>False</td>\n      <td>09 26, 2010</td>\n      <td>A2BVNVJOFXGZUB</td>\n      <td>0321719816</td>\n      <td>{'Format:': ' DVD-ROM'}</td>\n      <td>J. Howard</td>\n      <td>The video is well-paced and delivered in an un...</td>\n      <td>Excellent.</td>\n      <td>1285459200</td>\n      <td></td>\n      <td></td>\n    </tr>\n    <tr>\n      <th>6</th>\n      <td>5.0</td>\n      <td>False</td>\n      <td>04 7, 2011</td>\n      <td>A2JMJVNTBL7K7E</td>\n      <td>0321719816</td>\n      <td>{'Format:': ' DVD-ROM'}</td>\n      <td>Yesuaini99</td>\n      <td>I spent several hours on the lesson and I love...</td>\n      <td>excellent video training material</td>\n      <td>1302134400</td>\n      <td></td>\n      <td></td>\n    </tr>\n    <tr>\n      <th>7</th>\n      <td>5.0</td>\n      <td>False</td>\n      <td>01 8, 2011</td>\n      <td>A14JBDSWKPKTZA</td>\n      <td>0321719816</td>\n      <td>{'Format:': ' DVD-ROM'}</td>\n      <td>Bob Feeser</td>\n      <td>I have had Dreamweaver MX2004 since it came ou...</td>\n      <td>Great Video for a Difficult at Times Program</td>\n      <td>1294444800</td>\n      <td></td>\n      <td></td>\n    </tr>\n    <tr>\n      <th>8</th>\n      <td>5.0</td>\n      <td>False</td>\n      <td>10 28, 2010</td>\n      <td>A2WCFDOCS73PNB</td>\n      <td>0321719816</td>\n      <td>{'Format:': ' DVD-ROM'}</td>\n      <td>Gadgetman</td>\n      <td>I have also taken a local community college on...</td>\n      <td>Excellent value for the price</td>\n      <td>1288224000</td>\n      <td>4</td>\n      <td></td>\n    </tr>\n    <tr>\n      <th>9</th>\n      <td>5.0</td>\n      <td>False</td>\n      <td>10 28, 2010</td>\n      <td>A14638TGYH7GD9</td>\n      <td>0321719816</td>\n      <td>{'Format:': ' DVD-ROM'}</td>\n      <td>Rebecca Haden</td>\n      <td>Even though I use Dreamweaver a great deal and...</td>\n      <td>Buy this with your copy of Dreamweaver</td>\n      <td>1288224000</td>\n      <td>6</td>\n      <td></td>\n    </tr>\n    <tr>\n      <th>10</th>\n      <td>3.0</td>\n      <td>False</td>\n      <td>10 21, 2010</td>\n      <td>A2VWE5SGNDS8HW</td>\n      <td>0321719816</td>\n      <td>{'Format:': ' DVD-ROM'}</td>\n      <td>tachi1</td>\n      <td>I waited to complete the entire course before ...</td>\n      <td>Competent introduction to Dreamweaver and web ...</td>\n      <td>1287619200</td>\n      <td>22</td>\n      <td></td>\n    </tr>\n    <tr>\n      <th>12189</th>\n      <td>4.0</td>\n      <td>False</td>\n      <td>05 9, 2013</td>\n      <td>A2FRAS05LEI6JJ</td>\n      <td>0321719816</td>\n      <td>{'Format:': ' DVD-ROM'}</td>\n      <td>Sadie</td>\n      <td>I've wanted to design my own webpage for ages....</td>\n      <td>Good tutorial for Dreamweaver software</td>\n      <td>1368057600</td>\n      <td></td>\n      <td></td>\n    </tr>\n    <tr>\n      <th>12190</th>\n      <td>4.0</td>\n      <td>False</td>\n      <td>11 16, 2012</td>\n      <td>A3M1PA1C98XNGN</td>\n      <td>0321719816</td>\n      <td>{'Format:': ' DVD-ROM'}</td>\n      <td>Elizabeth Slater</td>\n      <td>All this product contains is training on how t...</td>\n      <td>Dreamweaver</td>\n      <td>1353024000</td>\n      <td></td>\n      <td></td>\n    </tr>\n    <tr>\n      <th>12191</th>\n      <td>5.0</td>\n      <td>False</td>\n      <td>05 14, 2012</td>\n      <td>AMRMK86X3PKXD</td>\n      <td>0321719816</td>\n      <td>{'Format:': ' DVD-ROM'}</td>\n      <td>Kindle Customer</td>\n      <td>I've been teaching media at the college level ...</td>\n      <td>A Great Introduction</td>\n      <td>1336953600</td>\n      <td></td>\n      <td></td>\n    </tr>\n  </tbody>\n</table>\n</div>"
     },
     "metadata": {},
     "execution_count": 225
    }
   ],
   "source": [
    "df.loc[df['asin'] == '0321719816']"
   ]
  },
  {
   "cell_type": "code",
   "execution_count": 215,
   "metadata": {},
   "outputs": [
    {
     "output_type": "execute_result",
     "data": {
      "text/plain": [
       "            overall  unixReviewTime\n",
       "count  12805.000000    1.280500e+04\n",
       "mean       3.877860    1.350001e+09\n",
       "std        1.362086    1.017569e+08\n",
       "min        1.000000    9.619776e+08\n",
       "25%        3.000000    1.266365e+09\n",
       "50%        4.000000    1.371686e+09\n",
       "75%        5.000000    1.427328e+09\n",
       "max        5.000000    1.535242e+09"
      ],
      "text/html": "<div>\n<style scoped>\n    .dataframe tbody tr th:only-of-type {\n        vertical-align: middle;\n    }\n\n    .dataframe tbody tr th {\n        vertical-align: top;\n    }\n\n    .dataframe thead th {\n        text-align: right;\n    }\n</style>\n<table border=\"1\" class=\"dataframe\">\n  <thead>\n    <tr style=\"text-align: right;\">\n      <th></th>\n      <th>overall</th>\n      <th>unixReviewTime</th>\n    </tr>\n  </thead>\n  <tbody>\n    <tr>\n      <th>count</th>\n      <td>12805.000000</td>\n      <td>1.280500e+04</td>\n    </tr>\n    <tr>\n      <th>mean</th>\n      <td>3.877860</td>\n      <td>1.350001e+09</td>\n    </tr>\n    <tr>\n      <th>std</th>\n      <td>1.362086</td>\n      <td>1.017569e+08</td>\n    </tr>\n    <tr>\n      <th>min</th>\n      <td>1.000000</td>\n      <td>9.619776e+08</td>\n    </tr>\n    <tr>\n      <th>25%</th>\n      <td>3.000000</td>\n      <td>1.266365e+09</td>\n    </tr>\n    <tr>\n      <th>50%</th>\n      <td>4.000000</td>\n      <td>1.371686e+09</td>\n    </tr>\n    <tr>\n      <th>75%</th>\n      <td>5.000000</td>\n      <td>1.427328e+09</td>\n    </tr>\n    <tr>\n      <th>max</th>\n      <td>5.000000</td>\n      <td>1.535242e+09</td>\n    </tr>\n  </tbody>\n</table>\n</div>"
     },
     "metadata": {},
     "execution_count": 215
    }
   ],
   "source": [
    "df.describe()"
   ]
  },
  {
   "cell_type": "code",
   "execution_count": 134,
   "metadata": {},
   "outputs": [],
   "source": [
    "# pip install krippendorff"
   ]
  },
  {
   "cell_type": "code",
   "execution_count": 263,
   "metadata": {},
   "outputs": [],
   "source": [
    "# Crowdsourcing Exercise\n",
    "import krippendorff\n",
    "import pandas as pd\n",
    "import numpy as np\n",
    "\n",
    "# importing libraries\n",
    "from sklearn.ensemble import VotingClassifier\n",
    "from sklearn.linear_model import LogisticRegression\n",
    "from sklearn.svm import SVC\n",
    "from sklearn.tree import DecisionTreeClassifier\n",
    "from sklearn.datasets import load_iris\n",
    "from sklearn.metrics import accuracy_score\n",
    "from sklearn.model_selection import train_test_split\n",
    "\n",
    "class CrowdSourcer():\n",
    "    \n",
    "    def __init__(self, sourcePath):\n",
    "        # Get data\n",
    "        self.data = pd.read_csv(sourcePath)\n",
    "\n",
    "        # The feature phrases removed (To separate rating)\n",
    "        cols = []\n",
    "        for i in range(29):\n",
    "            cols.append(\"feature\" + str(i + 1))\n",
    "\n",
    "        \n",
    "        self.ratings = self.data.drop([\"Sentence Index\",\"Ground Truth Labels\"] + cols, axis = 1)\n",
    "        self.groundTruth = self.data[\"Ground Truth Labels\"]\n",
    "        self.workers = self.ratings.columns\n",
    "        # features = data.drop([\"Sentence Index\",\"Ground Truth Labels\"] + workers.values[:], axis = 1)\n",
    "        # print(self.ratings)\n",
    "\n",
    "    def calcKrippendorff(self):\n",
    "        missing = \"\"        \n",
    "        kripCoef = krippendorff.alpha(reliability_data = self.ratings)\n",
    "        print(\"Krippendorff coeficient: %.3f\" % kripCoef)\n",
    "\n",
    "    # Generate the prediction matrix out of the global sheet data.\n",
    "    def trainByCS(self, X_train, y_train,voteType = \"hard\", solver = \"lbfgs\"):\n",
    "        # group / ensemble of models\n",
    "        self.estimator = []\n",
    "        self.estimator.append((\"LR\", \n",
    "                        LogisticRegression(solver = solver, \n",
    "                                            multi_class =\"multinomial\", \n",
    "                                            max_iter = 200)))\n",
    "        self.estimator.append((\"SVC\", SVC(gamma = \"auto\", probability = True)))\n",
    "        self.estimator.append((\"DTC\", DecisionTreeClassifier()))\n",
    "\n",
    "        # Voting Classifier with hard voting\n",
    "        self.voters = VotingClassifier(estimators = self.estimator, voting = voteType)\n",
    "        self.voters.fit(X_train, y_train)\n",
    "        \n",
    "\n",
    "    def checkPrediction(self,ratings,truths):\n",
    "        y_pred = self.voters.predict(ratings)\n",
    "        # print(whole)\n",
    "        misses = 0\n",
    "        for guess,truth in zip(y_pred, truths):\n",
    "            # print(guess,truth)\n",
    "            if guess != truth:\n",
    "                misses += 1\n",
    "        print(misses, \"miss(es) out of\",len(truths), \" accurary:\", str(100*round( 1-(misses/len(truths)) , 2)) + \"%\" )\n",
    "        return str(100*round( 1-(misses/len(truths)) , 2))\n",
    "        \n",
    "collabData = CrowdSourcer(\"GlobalSheet.csv\")"
   ]
  },
  {
   "cell_type": "code",
   "execution_count": 136,
   "metadata": {},
   "outputs": [
    {
     "output_type": "stream",
     "name": "stdout",
     "text": [
      "Krippendorff coeficient: 0.005\n"
     ]
    }
   ],
   "source": [
    "collabData.calcKrippendorff()"
   ]
  },
  {
   "cell_type": "code",
   "execution_count": 137,
   "metadata": {},
   "outputs": [
    {
     "output_type": "stream",
     "name": "stdout",
     "text": [
      "size of train data: 9\n",
      "size of test data: 92.0\n",
      "3 miss(es) out of 92  accurary: 97.0%\n",
      "3 miss(es) out of 92  accurary: 97.0%\n",
      "4 miss(es) out of 92  accurary: 96.0%\n",
      "4 miss(es) out of 92  accurary: 96.0%\n",
      "3 miss(es) out of 92  accurary: 97.0%\n"
     ]
    }
   ],
   "source": [
    "# Training and testing the crowdsourcing\n",
    "testSize = 0.91\n",
    "\n",
    "print(\"size of train data:\", round( len(collabData.groundTruth)*(1-testSize)) )\n",
    "print(\"size of test data:\",  round( len(collabData.groundTruth)*testSize,0) )\n",
    "\n",
    "#### TESTING PARAMETERS ####\n",
    "# solvers = [\"newton-cg\",\"lbfgs\"]\n",
    "# for s in solvers:\n",
    "#     print(s)\n",
    "#     for j in range(2):\n",
    "#         vote = \"hard\"\n",
    "#         if j == 1:\n",
    "#             vote = \"soft\"\n",
    "#         print(\"with\", vote,\"vote\")\n",
    "#         for i in range(20):\n",
    "#             X_train, X_test, y_train, y_test = train_test_split(collabData.ratings,\n",
    "#                                                                 collabData.groundTruth,\n",
    "#                                                                 test_size = testSize,\n",
    "#                                                                 random_state = 42)\n",
    "\n",
    "#             # collabData.trainByCS(X_train,y_train,\"soft\")\n",
    "#             collabData.trainByCS(X_train,y_train,vote,s)\n",
    "#             collabData.checkPrediction(X_test,y_test)\n",
    "#############################\n",
    "\n",
    "for i in range(5):\n",
    "    X_train, X_test, y_train, y_test = train_test_split(collabData.ratings,\n",
    "                                                        collabData.groundTruth,\n",
    "                                                        test_size = testSize,\n",
    "                                                        random_state = 42)\n",
    "\n",
    "    collabData.trainByCS(X_train,y_train,\"hard\")\n",
    "    collabData.checkPrediction(X_test,y_test)"
   ]
  },
  {
   "cell_type": "code",
   "execution_count": 138,
   "metadata": {},
   "outputs": [],
   "source": [
    "# pip install gensim"
   ]
  },
  {
   "cell_type": "code",
   "execution_count": 139,
   "metadata": {},
   "outputs": [],
   "source": [
    "from sklearn.base import TransformerMixin, BaseEstimator\n",
    "\n",
    "class Debug(BaseEstimator, TransformerMixin):\n",
    "\n",
    "    def transform(self, X):\n",
    "        # print(X.shape)\n",
    "        self.shape = X.shape\n",
    "        # print(self.shape)\n",
    "        return X\n",
    "\n",
    "    def fit(self, X, y=None, **fit_params):\n",
    "        return self"
   ]
  },
  {
   "cell_type": "code",
   "execution_count": 314,
   "metadata": {
    "tags": []
   },
   "outputs": [],
   "source": [
    "import numpy as np\n",
    "\n",
    "# SKLearn\n",
    "from sklearn.decomposition import PCA\n",
    "from sklearn.linear_model import LogisticRegression, SGDClassifier\n",
    "from sklearn.pipeline import Pipeline\n",
    "from sklearn.decomposition import TruncatedSVD\n",
    "from sklearn.pipeline import make_pipeline\n",
    "from sklearn.feature_extraction.text import CountVectorizer, TfidfTransformer\n",
    "\n",
    "class Recommender(SentAnalyzer):\n",
    "    def __init__(self, sourcePath):\n",
    "        SentAnalyzer.__init__(self, sourcePath)\n",
    "        \n",
    "        self.cleanData = True # (Overright)\n",
    "        self.testSize = 0.5\n",
    "        self.X_train, self.X_test, self.y_train, self.y_test = train_test_split(self.texts,\n",
    "                                                                                self.labels,\n",
    "                                                                                test_size = self.testSize,\n",
    "                                                                                random_state = 42)\n",
    "\n",
    "    def getDocTermMtx(self,n_min = 1,n_max = 3):\n",
    "        self.cv = CountVectorizer(ngram_range=(n_min, n_max), lowercase = True)\n",
    "        if self.cleanData:\n",
    "            self.cv = CountVectorizer(ngram_range=(n_min, n_max), lowercase = True, preprocessor = self.cleanString)\n",
    "\n",
    "        self.cv.fit(self.texts.values)\n",
    "        self.wcVector = self.cv.transform(self.texts.values)\n",
    "\n",
    "        self.vocab = list(self.cv.vocabulary_.items())\n",
    "        print('Vocabulary len:',len(self.vocab))\n",
    "        print(\"Word Vector matrix:\",self.wcVector.shape)\n",
    "\n",
    "        # Unigram Tf-Idf\n",
    "        \n",
    "        self.tfidf = TfidfTransformer()\n",
    "        self.tfidf.fit(self.wcVector)\n",
    "\n",
    "        # Numericalize the train dataset\n",
    "        self.docTermMtx = self.tfidf.transform(self.wcVector)\n",
    "        print('Document-term matrix',self.docTermMtx.shape)\n",
    "        \n",
    "    def dimensionReduce(self,n):\n",
    "        svd = TruncatedSVD(n_components = n, n_iter=7, random_state=42)\n",
    "        svd.fit(self.docTermMtx)\n",
    "        self.redDocTermMtx = svd.transform(self.docTermMtx)\n",
    "\n",
    "        print(svd.explained_variance_ratio_)\n",
    "        print()\n",
    "        print(svd.explained_variance_ratio_.sum())\n",
    "        print()\n",
    "        print('Eigen values',svd.singular_values_)\n",
    "        print()\n",
    "        print('redDocTermMtx',self.redDocTermMtx)\n",
    "\n",
    "    def linReg(self):\n",
    "        self.lr = LogisticRegression(random_state=0)\n",
    "        self.lrResult = self.lr.fit(self.X_train.values,self.y_train)\n",
    "\n",
    "    def withPipeline(self, n_min = 1,n_max = 1, svd_iter = 7,predictor = \"sgd\", useDimRed = True, nDim = 100):\n",
    "        start = time.time()\n",
    "\n",
    "        # Pipeline components\n",
    "        pipeArray = []\n",
    "        if self.cleanData:\n",
    "            self.cv = CountVectorizer(ngram_range=(n_min, n_max), lowercase = True, preprocessor = self.cleanString)\n",
    "            pipeArray.append((\"CV\", self.cv))\n",
    "        else:\n",
    "            self.cv = CountVectorizer(ngram_range=(n_min, n_max), lowercase = True)\n",
    "            pipeArray.append((\"CV\", self.cv))\n",
    "        \n",
    "        self.tfidf = TfidfTransformer()\n",
    "        pipeArray.append((\"TF-IDF\", self.tfidf))\n",
    "        \n",
    "        # Print doc-term-mtx info\n",
    "        # self.debug = Debug()\n",
    "        # pipeArray.append((\"Debug\", self.debug))\n",
    "        \n",
    "        if useDimRed:\n",
    "            self.svd = TruncatedSVD(n_components = nDim, n_iter = svd_iter, random_state = 42)\n",
    "            pipeArray.append((\"SVD\", self.svd))\n",
    "        \n",
    "        # Predictor used\n",
    "        if predictor == \"lr\":\n",
    "            self.lr = LogisticRegression(random_state = 0)\n",
    "            pipeArray.append((\"LR\", self.lr))\n",
    "        elif predictor == \"sgd\":\n",
    "            self.sgd = SGDClassifier(max_iter=1000, tol=1e-3)\n",
    "            pipeArray.append((\"SGD\", self.sgd))\n",
    "        \n",
    "        # Process pipeline\n",
    "        self.pipe = Pipeline(pipeArray)\n",
    "        self.result = self.pipe.fit(self.X_train.values, self.y_train)\n",
    "        end = time.time()\n",
    "        runtime = round(end - start, 2)\n",
    "\n",
    "        # Test\n",
    "        if useDimRed:\n",
    "            print('With dims:', nDim ,', tf-idf dims:', self.debug.shape , \"using\", predictor ,\", runtime:\",runtime)\n",
    "        else:\n",
    "            print('Without dim reduction, tf-idf dims:', self.debug.shape , \"using\", predictor ,\", runtime:\",runtime)\n",
    "        self.test()\n",
    "\n",
    "    def test(self, predicter = None):\n",
    "        if predicter == None:\n",
    "            predicter = self.pipe\n",
    "        self.pred = predicter.predict(self.X_test.values)\n",
    "        self.rightAns = 0\n",
    "        for pred, ans in zip(self.pred,self.y_test.values):\n",
    "            if pred == ans:\n",
    "                self.rightAns += 1\n",
    "        print('Right answers:',self.rightAns, 'of',len(self.pred),\n",
    "                'so', str(round(100*self.rightAns/len(self.pred),2)) + \"%\" )\n",
    "            \n",
    "    def predictWithModels(self):\n",
    "        self.model = Word2Vec.load(\"word2vec.model\")\n",
    "        self.model.train(self.X_train, total_examples=1, epochs=1)\n",
    "        print(\"train score:\", model.score(self.X_train, self.y_train))\n",
    "        print(\"test score:\", model.score(self.X_test, self.y_test))"
   ]
  },
  {
   "cell_type": "code",
   "execution_count": 315,
   "metadata": {},
   "outputs": [],
   "source": [
    "sstRec = Recommender(\"stsa.binary.phrases.train\")"
   ]
  },
  {
   "cell_type": "code",
   "execution_count": 276,
   "metadata": {
    "tags": []
   },
   "outputs": [
    {
     "output_type": "stream",
     "name": "stdout",
     "text": [
      "Vocabulary len: 167532\nWord Vector matrix: (76961, 167532)\nDocument-term matrix (76961, 167532)\n"
     ]
    }
   ],
   "source": [
    "# sstRec.getDocTermMtx()"
   ]
  },
  {
   "cell_type": "code",
   "execution_count": 142,
   "metadata": {},
   "outputs": [
    {
     "output_type": "stream",
     "name": "stdout",
     "text": [
      "[[' worst revenge the nerds clichés filmmakers could dredge up']\n ['solid acting a neat premise']\n ['ode unconditional love compassion garnered years seeing all   condition the old privy       often misconstrued weakness']\n ['a   do joan philip  repetitive arguments   schemes treachery']\n [' movie silly beyond comprehension   even it n silly   would still beyond comprehension  ']]\n"
     ]
    }
   ],
   "source": [
    "# print(cleanData[:5].values)"
   ]
  },
  {
   "cell_type": "code",
   "execution_count": 334,
   "metadata": {},
   "outputs": [
    {
     "output_type": "stream",
     "name": "stdout",
     "text": [
      "showing info https://raw.githubusercontent.com/nltk/nltk_data/gh-pages/index.xml\n"
     ]
    },
    {
     "output_type": "execute_result",
     "data": {
      "text/plain": [
       "True"
      ]
     },
     "metadata": {},
     "execution_count": 334
    }
   ],
   "source": [
    "import nltk\n",
    "\n",
    "nltk.download()\n",
    "# sstRec.texts.values"
   ]
  },
  {
   "cell_type": "code",
   "execution_count": 316,
   "metadata": {},
   "outputs": [
    {
     "output_type": "stream",
     "name": "stdout",
     "text": [
      "With dims: 20 , tf-idf dims: (38480, 14332) using LR, runtime 4.49\n",
      "Right answers: 25438 of 38481 so 66.11%\n"
     ]
    }
   ],
   "source": [
    "sstRec.cleanData = False\r\n",
    "sstRec.withPipeline()\r\n",
    "# With dims: 20 , tf-idf dims: (38480, 14332) using LR, runtime 4.49\r\n",
    "# Right answers: 25438 of 38481 so 66.11%"
   ]
  },
  {
   "cell_type": "code",
   "execution_count": 324,
   "metadata": {},
   "outputs": [
    {
     "output_type": "stream",
     "name": "stdout",
     "text": [
      "With dims: 20 , tf-idf dims: (38480, 14332) using LR, runtime 5.23\n",
      "Right answers: 25960 of 38481 so 67.46%\n"
     ]
    }
   ],
   "source": [
    "sstRec.cleanData = False\n",
    "sstRec.withPipeline(predictor=\"lr\")\n",
    "# With dims: 20 , tf-idf dims: (38480, 14332) using LR, runtime 5.23\n",
    "# Right answers: 25960 of 38481 so 67.46%"
   ]
  },
  {
   "cell_type": "code",
   "execution_count": 317,
   "metadata": {},
   "outputs": [
    {
     "output_type": "stream",
     "name": "stdout",
     "text": [
      "With dims: 20 , tf-idf dims: (38480, 14328) using LR, runtime 55.0\n",
      "Right answers: 24349 of 38481 so 63.28%\n"
     ]
    }
   ],
   "source": [
    "sstRec.cleanData = True\n",
    "sstRec.withPipeline()\n",
    "# With dims: 20 , tf-idf dims: (38480, 14328) using LR, runtime 55.0\n",
    "# Right answers: 24349 of 38481 so 63.28%"
   ]
  },
  {
   "cell_type": "code",
   "execution_count": 320,
   "metadata": {},
   "outputs": [
    {
     "output_type": "stream",
     "name": "stdout",
     "text": [
      "With dims: 20 , tf-idf dims: (38480, 14328) using LR, runtime 59.45\n",
      "Right answers: 26262 of 38481 so 68.25%\n"
     ]
    }
   ],
   "source": [
    "# SGD\n",
    "sstRec.cleanData = True\n",
    "sstRec.withPipeline(nDim=200)\n",
    "# With dims: 200 , tf-idf dims: (38480, 14328) using LR, runtime 59.45\n",
    "# Right answers: 26262 of 38481 so 68.25%"
   ]
  },
  {
   "cell_type": "code",
   "execution_count": 323,
   "metadata": {},
   "outputs": [
    {
     "output_type": "stream",
     "name": "stdout",
     "text": [
      "With dims: 20 , tf-idf dims: (38480, 14328) using LR, runtime 63.17\n",
      "Right answers: 28227 of 38481 so 73.35%\n"
     ]
    }
   ],
   "source": [
    "# LR\r\n",
    "sstRec.cleanData = True\r\n",
    "sstRec.withPipeline(nDim=300,predictor=\"lr\")\r\n",
    "# With dims: 300 , tf-idf dims: (38480, 14328) using LR, runtime 63.17\r\n",
    "# Right answers: 28227 of 38481 so 73.35%"
   ]
  },
  {
   "cell_type": "code",
   "execution_count": null,
   "metadata": {},
   "outputs": [],
   "source": [
    "import time\n",
    "\n",
    "start = time.time()\n",
    "sstRec.withPipeline(n_min = 1, n_max = 1) # 65.1%\n",
    "sstRec.withPipeline(n_min = 1, n_max = 2) # 64.15%\n",
    "sstRec.withPipeline(n_min = 1, n_max = 3) # 63.79%\n",
    "sstRec.withPipeline(n_min = 1, n_max = 4) # 63.71%\n",
    "end = time.time()\n",
    "print(\"runtime:\",round(end-start,2),\"msp\")"
   ]
  },
  {
   "cell_type": "code",
   "execution_count": null,
   "metadata": {},
   "outputs": [],
   "source": [
    "# sstRec."
   ]
  },
  {
   "cell_type": "code",
   "execution_count": null,
   "metadata": {},
   "outputs": [],
   "source": [
    "sstRec.getDocTermMtx()\n",
    "sstRec.linReg()"
   ]
  },
  {
   "cell_type": "code",
   "execution_count": null,
   "metadata": {},
   "outputs": [],
   "source": [
    "sstRec.dimensionReduce(100)"
   ]
  },
  {
   "cell_type": "code",
   "execution_count": null,
   "metadata": {},
   "outputs": [],
   "source": [
    "# Here I tried the differences between \n",
    "# the CountVectorizer with different parameters\n",
    "\n",
    "from sklearn.feature_extraction.text import CountVectorizer, TfidfTransformer\n",
    "\n",
    "# Unigram Counts\n",
    "\n",
    "unigram_vectorizer = CountVectorizer(ngram_range=(1, 1))\n",
    "unigram_vectorizer.fit(sstRec.texts.values)\n",
    "\n",
    "X_train_unigram = unigram_vectorizer.transform(sstRec.texts.values)\n",
    "\n",
    "# Unigram Tf-Idf\n",
    "unigram_tf_idf = TfidfTransformer()\n",
    "unigram_tf_idf.fit(X_train_unigram)\n",
    "\n",
    "X_train_unigram_tf_idf = unigram_tf_idf.transform(X_train_unigram)\n",
    "\n",
    "# trigram Counts\n",
    "trigram_vectorizer = CountVectorizer(ngram_range=(1, 3))\n",
    "trigram_vectorizer.fit(sstRec.texts.values)\n",
    "\n",
    "X_train_trigram = trigram_vectorizer.transform(sstRec.texts.values)\n",
    "\n",
    "\n",
    "# trigram Tf-Idf\n",
    "trigram_tf_idf = TfidfTransformer()\n",
    "trigram_tf_idf.fit(X_train_trigram)\n",
    "\n",
    "X_train_trigram_tf_idf = trigram_tf_idf.transform(X_train_trigram)"
   ]
  },
  {
   "cell_type": "code",
   "execution_count": null,
   "metadata": {},
   "outputs": [],
   "source": [
    "from sklearn.linear_model import SGDClassifier\n",
    "from sklearn.model_selection import train_test_split\n",
    "from scipy.sparse import csr_matrix\n",
    "import numpy as np\n",
    "\n",
    "def train_and_show_scores(X, y, title) -> None:\n",
    "    X_train, X_valid, y_train, y_valid = train_test_split(\n",
    "        X, y, train_size = 0.75, stratify = y\n",
    "    )\n",
    "\n",
    "    clf = SGDClassifier()\n",
    "    clf.fit(X_train, y_train)\n",
    "    train_score = clf.score(X_train, y_train)\n",
    "    valid_score = clf.score(X_valid, y_valid)\n",
    "    print(f'{title}\\nTrain score: {round(train_score, 2)} ; Validation score: {round(valid_score, 2)}\\n')\n",
    "\n",
    "y_train = sstRec.labels.values\n",
    "\n",
    "train_and_show_scores(X_train_unigram, y_train, 'Unigram Counts')\n",
    "train_and_show_scores(X_train_unigram_tf_idf, y_train, 'Unigram Tf-Idf')\n",
    "train_and_show_scores(X_train_trigram, y_train, 'Trigram Counts')\n",
    "train_and_show_scores(X_train_trigram_tf_idf, y_train, 'Trigram Tf-Idf')\n",
    "\n",
    "train_and_show_scores(X_train_unigram, y_train, 'Unigram Counts')\n",
    "train_and_show_scores(X_train_unigram_tf_idf, y_train, 'Unigram Tf-Idf')\n",
    "train_and_show_scores(X_train_trigram, y_train, 'Trigram Counts')\n",
    "train_and_show_scores(X_train_trigram_tf_idf, y_train, 'Trigram Tf-Idf')"
   ]
  }
 ]
}