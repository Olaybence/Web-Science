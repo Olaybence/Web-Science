{
 "metadata": {
  "language_info": {
   "codemirror_mode": {
    "name": "ipython",
    "version": 3
   },
   "file_extension": ".py",
   "mimetype": "text/x-python",
   "name": "python",
   "nbconvert_exporter": "python",
   "pygments_lexer": "ipython3",
   "version": "3.8.5-final"
  },
  "orig_nbformat": 2,
  "kernelspec": {
   "name": "python385jvsc74a57bd0ecf5722fdaf1897a315d257d89d94520bfcaa453217d5becf09b39e73618b0de",
   "display_name": "Python 3.8.5 64-bit (conda)"
  },
  "metadata": {
   "interpreter": {
    "hash": "ecf5722fdaf1897a315d257d89d94520bfcaa453217d5becf09b39e73618b0de"
   }
  }
 },
 "nbformat": 4,
 "nbformat_minor": 2,
 "cells": [
  {
   "cell_type": "code",
   "execution_count": 2,
   "metadata": {},
   "outputs": [],
   "source": [
    "import os\n",
    "import json\n",
    "import pandas as pd\n",
    "import gzip\n",
    "from urllib.request import urlopen"
   ]
  },
  {
   "cell_type": "code",
   "execution_count": 91,
   "metadata": {},
   "outputs": [
    {
     "output_type": "stream",
     "name": "stderr",
     "text": [
      "[nltk_data] Downloading package sentiwordnet to\n",
      "[nltk_data]     C:\\Users\\Bence\\AppData\\Roaming\\nltk_data...\n",
      "[nltk_data]   Unzipping corpora\\sentiwordnet.zip.\n",
      "[nltk_data] Downloading package wordnet to\n",
      "[nltk_data]     C:\\Users\\Bence\\AppData\\Roaming\\nltk_data...\n",
      "[nltk_data]   Unzipping corpora\\wordnet.zip.\n"
     ]
    }
   ],
   "source": [
    "import nltk\n",
    "nltk.download('sentiwordnet')\n",
    "nltk.download('wordnet')\n",
    "from nltk.corpus import sentiwordnet as swn"
   ]
  },
  {
   "cell_type": "code",
   "execution_count": 3,
   "metadata": {},
   "outputs": [
    {
     "output_type": "stream",
     "name": "stdout",
     "text": [
      "shape (12805, 12)\nColunm Name :  overall\nColumn Contents :  [4. 4. 5. 5. 5.]\nColunm Name :  verified\nColumn Contents :  [False False False False False]\nColunm Name :  reviewTime\nColumn Contents :  ['10 20, 2010' '10 18, 2010' '10 16, 2010' '10 12, 2010' '10 7, 2010']\nColunm Name :  reviewerID\nColumn Contents :  ['A38NELQT98S4H8' 'A3QJU4FEN8PQSZ' 'ACJT8MUC0LRF0' 'AYUF7YETYOLNX'\n 'A31ICLWQ9CSHRS']\nColunm Name :  asin\nColumn Contents :  ['0321719816' '0321719816' '0321719816' '0321719816' '0321719816']\n"
     ]
    }
   ],
   "source": [
    "def parse(path):\n",
    "  g = gzip.open(path, 'rb')\n",
    "  for l in g:\n",
    "    yield json.loads(l)\n",
    "\n",
    "def getDF(path):\n",
    "  i = 0\n",
    "  df = {}\n",
    "  for d in parse(path):\n",
    "    df[i] = d\n",
    "    i += 1\n",
    "  return pd.DataFrame.from_dict(df, orient='index')\n",
    "\n",
    "# asin - ID of the product\n",
    "# reviewerID - ID of the reviewer\n",
    "# reviewTime - time of the review (raw)\n",
    "# overall - rating of the product\n",
    "df = getDF('Software_5.json.gz')\n",
    "df = df.fillna('')\n",
    "print('shape', df.shape)\n",
    "i = 0\n",
    "for (columnName, columnData) in df.iteritems():\n",
    "    i+=1\n",
    "    if i > 5:\n",
    "        break\n",
    "    print('Colunm Name : ', columnName)\n",
    "    print('Column Contents : ', columnData.values[:5])"
   ]
  },
  {
   "cell_type": "code",
   "execution_count": 41,
   "metadata": {},
   "outputs": [
    {
     "output_type": "stream",
     "name": "stdout",
     "text": [
      "           A38NELQT98S4H8 A3QJU4FEN8PQSZ ACJT8MUC0LRF0 AYUF7YETYOLNX  \\\n0321719816            NaN            NaN           NaN           NaN   \n0321719816            NaN            NaN           NaN           NaN   \n0321719816            NaN            NaN           NaN           NaN   \n0321719816            NaN            NaN           NaN           NaN   \n0321719816            NaN            NaN           NaN           NaN   \n...                   ...            ...           ...           ...   \nB01FFVDY9M            NaN            NaN           NaN           NaN   \nB01HAP3NUG            NaN            NaN           NaN           NaN   \nB01HAP3NUG            NaN            NaN           NaN           NaN   \nB01HAP47PQ            NaN            NaN           NaN           NaN   \nB01HAP47PQ            NaN            NaN           NaN           NaN   \n\n           A31ICLWQ9CSHRS A2BVNVJOFXGZUB A2JMJVNTBL7K7E A14JBDSWKPKTZA  \\\n0321719816            NaN            NaN            NaN            NaN   \n0321719816            NaN            NaN            NaN            NaN   \n0321719816            NaN            NaN            NaN            NaN   \n0321719816            NaN            NaN            NaN            NaN   \n0321719816            NaN            NaN            NaN            NaN   \n...                   ...            ...            ...            ...   \nB01FFVDY9M            NaN            NaN            NaN            NaN   \nB01HAP3NUG            NaN            NaN            NaN            NaN   \nB01HAP3NUG            NaN            NaN            NaN            NaN   \nB01HAP47PQ            NaN            NaN            NaN            NaN   \nB01HAP47PQ            NaN            NaN            NaN            NaN   \n\n           A2WCFDOCS73PNB A14638TGYH7GD9  ... A1RHJX6OA0O9KQ A20QR509GXKL2A  \\\n0321719816            NaN            NaN  ...            NaN            NaN   \n0321719816            NaN            NaN  ...            NaN            NaN   \n0321719816            NaN            NaN  ...            NaN            NaN   \n0321719816            NaN            NaN  ...            NaN            NaN   \n0321719816            NaN            NaN  ...            NaN            NaN   \n...                   ...            ...  ...            ...            ...   \nB01FFVDY9M            NaN            NaN  ...            NaN            NaN   \nB01HAP3NUG            NaN            NaN  ...            NaN            NaN   \nB01HAP3NUG            NaN            NaN  ...            NaN            NaN   \nB01HAP47PQ            NaN            NaN  ...            NaN            NaN   \nB01HAP47PQ            NaN            NaN  ...            NaN            NaN   \n\n           A35SZBPM3WCB4 A3EK2KTYHJCPB9 A5U5T6EWH90O0 A1E50L7PCVXLN4  \\\n0321719816           NaN            NaN           NaN            NaN   \n0321719816           NaN            NaN           NaN            NaN   \n0321719816           NaN            NaN           NaN            NaN   \n0321719816           NaN            NaN           NaN            NaN   \n0321719816           NaN            NaN           NaN            NaN   \n...                  ...            ...           ...            ...   \nB01FFVDY9M           NaN            NaN           NaN            NaN   \nB01HAP3NUG           NaN            NaN           NaN            NaN   \nB01HAP3NUG           NaN            NaN           NaN            NaN   \nB01HAP47PQ           NaN            NaN           NaN            NaN   \nB01HAP47PQ           NaN            NaN           NaN            NaN   \n\n           AVU1ILDDYW301 A2LW5AL0KQ9P1M AZ515FFZ7I2P7 A2WPL6Y08K6ZQH  \n0321719816           NaN            NaN           NaN            NaN  \n0321719816           NaN            NaN           NaN            NaN  \n0321719816           NaN            NaN           NaN            NaN  \n0321719816           NaN            NaN           NaN            NaN  \n0321719816           NaN            NaN           NaN            NaN  \n...                  ...            ...           ...            ...  \nB01FFVDY9M           NaN            NaN           NaN            NaN  \nB01HAP3NUG           NaN            NaN           NaN            NaN  \nB01HAP3NUG           NaN            NaN           NaN            NaN  \nB01HAP47PQ           NaN            NaN           NaN            NaN  \nB01HAP47PQ           NaN            NaN           NaN            NaN  \n\n[12805 rows x 12805 columns]\n"
     ]
    }
   ],
   "source": [
    "reviewed = df[['reviewerID','asin','overall']]\r\n",
    "adjMatrix = pd.DataFrame(index = df['asin'].values, columns = df['reviewerID'].values )\r\n",
    "adjMatrix.fillna(0)\r\n",
    "print(adjMatrix.shape)"
   ]
  }
 ]
}