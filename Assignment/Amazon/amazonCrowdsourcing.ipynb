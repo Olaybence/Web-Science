{
 "metadata": {
  "language_info": {
   "codemirror_mode": {
    "name": "ipython",
    "version": 3
   },
   "file_extension": ".py",
   "mimetype": "text/x-python",
   "name": "python",
   "nbconvert_exporter": "python",
   "pygments_lexer": "ipython3",
   "version": "3.8.5-final"
  },
  "orig_nbformat": 2,
  "kernelspec": {
   "name": "python3",
   "display_name": "Python 3.8.5 64-bit (conda)",
   "metadata": {
    "interpreter": {
     "hash": "ecf5722fdaf1897a315d257d89d94520bfcaa453217d5becf09b39e73618b0de"
    }
   }
  }
 },
 "nbformat": 4,
 "nbformat_minor": 2,
 "cells": [
  {
   "cell_type": "code",
   "execution_count": null,
   "metadata": {},
   "outputs": [],
   "source": [
    "import os\n",
    "import json\n",
    "import gzip\n",
    "import pandas as pd\n",
    "from urllib.request import urlopen"
   ]
  },
  {
   "cell_type": "code",
   "execution_count": null,
   "metadata": {},
   "outputs": [],
   "source": [
    "data = []\n",
    "with gzip.open('meta_Computers.json.gz') as f:\n",
    "    for l in f:\n",
    "        data.append(json.loads(l.strip()))\n",
    "    \n",
    "# total length of list, this number equals total number of products\n",
    "print(len(data))\n",
    "\n",
    "# first row of the list\n",
    "print(data[1])"
   ]
  },
  {
   "cell_type": "code",
   "execution_count": null,
   "metadata": {},
   "outputs": [],
   "source": [
    "# convert list into pandas dataframe\n",
    "\n",
    "df = pd.DataFrame.from_dict(data)\n",
    "\n",
    "print(len(df))"
   ]
  },
  {
   "cell_type": "code",
   "execution_count": 24,
   "metadata": {},
   "outputs": [
    {
     "output_type": "stream",
     "name": "stdout",
     "text": [
      "18772\n135\n18637\n\ndescription         [Brand new. Still in factory-sealed plastic.]\ntitle           Kelby Training DVD: The Adobe Photoshop CS5 7-...\nimage           [https://images-na.ssl-images-amazon.com/image...\nbrand                                              Kelby Training\nrank            [>#654,681 in Electronics (See Top 100 in Elec...\nmain_cat                                                Computers\ndate                                             December 2, 2011\nasin                                                   0321732960\nfeature                                                          \ntech1                                                            \nalso_buy                                                         \nprice                                                            \nalso_view                                                        \ntech2                                                            \ndetails                                                          \nsimilar_item                                                     \nName: 0, dtype: object\n\ndescription                                                      \ntitle           var aPageStart = (new Date()).getTime();\\nvar ...\nimage                                                            \nbrand                                              DS Miller Inc.\nrank            [>#1,826,312 in Electronics (See Top 100 in El...\nmain_cat                                                Computers\ndate                                                March 1, 2010\nasin                                                   B0016C5EXY\nfeature                                                          \ntech1                                                            \nalso_buy                                                         \nprice                                                            \nalso_view                                                        \ntech2                                                            \ndetails                                                          \nsimilar_item                                                     \nName: 1186, dtype: object\n\ndescription         [Brand new. Still in factory-sealed plastic.]\ntitle           Kelby Training DVD: The Adobe Photoshop CS5 7-...\nimage           [https://images-na.ssl-images-amazon.com/image...\nbrand                                              Kelby Training\nrank            [>#654,681 in Electronics (See Top 100 in Elec...\nmain_cat                                                Computers\ndate                                             December 2, 2011\nasin                                                   0321732960\nfeature                                                          \ntech1                                                            \nalso_buy                                                         \nprice                                                            \nalso_view                                                        \ntech2                                                            \ndetails                                                          \nsimilar_item                                                     \nName: 0, dtype: object\n"
     ]
    }
   ],
   "source": [
    "### remove rows with unformatted title (i.e. some 'title' may still contain html style content)\n",
    "\n",
    "df3 = df.fillna('')\n",
    "df4 = df3[df3.title.str.contains('getTime')] # unformatted rows\n",
    "df5 = df3[~df3.title.str.contains('getTime')] # filter those unformatted rows\n",
    "\n",
    "print(len(df3))\n",
    "print(len(df4))\n",
    "print(len(df5))\n",
    "# print()\n",
    "# print(df3.iloc[0])\n",
    "# print()\n",
    "# print(df4.iloc[0])\n",
    "# print()\n",
    "# print(df5.iloc[0])"
   ]
  },
  {
   "cell_type": "code",
   "execution_count": null,
   "metadata": {},
   "outputs": [],
   "source": [
    "# how those unformatted rows look like\n",
    "df4.iloc[8]"
   ]
  }
 ]
}