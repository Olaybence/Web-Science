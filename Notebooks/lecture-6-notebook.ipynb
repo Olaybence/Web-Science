{
 "cells": [
  {
   "cell_type": "markdown",
   "metadata": {},
   "source": [
    "### User-based collaborative filtering\n",
    "\n",
    "Below is a rating matrix consisting of 5 items and 6 users. Two user-item ratings are unknown, marked with 0. \n",
    "Intuituvely, it seems user 0 (first row) is similar to user 4 (row 3) and dissimilar to user 2 (row 1).\n",
    "\n"
   ]
  },
  {
   "cell_type": "code",
   "execution_count": 1,
   "metadata": {},
   "outputs": [],
   "source": [
    "import numpy as np\n",
    "ratings = np.array([[8, 1, 0, 2, 7], [2, 0, 5, 7, 5], [5, 4, 7, 4, 7], [7, 1, 7, 3, 8], [1, 7, 4, 6, 5], [8, 3, 8, 3, 7]])"
   ]
  },
  {
   "cell_type": "code",
   "execution_count": 2,
   "metadata": {
    "scrolled": true
   },
   "outputs": [
    {
     "data": {
      "text/plain": [
       "array([[8, 1, 0, 2, 7],\n",
       "       [2, 0, 5, 7, 5],\n",
       "       [5, 4, 7, 4, 7],\n",
       "       [7, 1, 7, 3, 8],\n",
       "       [1, 7, 4, 6, 5],\n",
       "       [8, 3, 8, 3, 7]])"
      ]
     },
     "execution_count": 2,
     "metadata": {},
     "output_type": "execute_result"
    }
   ],
   "source": [
    "ratings"
   ]
  },
  {
   "cell_type": "code",
   "execution_count": 4,
   "metadata": {},
   "outputs": [],
   "source": [
    "def euclidean_distance(x, y):\n",
    "    return np.sqrt(np.sum((x - y) ** 2))"
   ]
  },
  {
   "cell_type": "code",
   "execution_count": 5,
   "metadata": {},
   "outputs": [],
   "source": [
    "def cosine_similarity(x, y):\n",
    "   return np.dot(x, y) / (np.sqrt(np.dot(x, x)) * np.sqrt(np.dot(y, y)))"
   ]
  },
  {
   "cell_type": "code",
   "execution_count": 7,
   "metadata": {},
   "outputs": [
    {
     "name": "stdout",
     "output_type": "stream",
     "text": [
      "9.539392014169456\n",
      "7.211102550927978\n"
     ]
    }
   ],
   "source": [
    "print(euclidean_distance(ratings[0], ratings[1]))\n",
    "print(euclidean_distance(ratings[0], ratings[3]))"
   ]
  },
  {
   "cell_type": "code",
   "execution_count": 9,
   "metadata": {},
   "outputs": [
    {
     "name": "stdout",
     "output_type": "stream",
     "text": [
      "0.5895949304375813\n",
      "0.8352985630281698\n"
     ]
    }
   ],
   "source": [
    "print(cosine_similarity(ratings[0], ratings[1]))\n",
    "print(cosine_similarity(ratings[0], ratings[3]))"
   ]
  },
  {
   "cell_type": "markdown",
   "metadata": {},
   "source": [
    "According to ED, `user 2` is more distant to `user 1` than `user 4`, but not quite far. The same is true for cosine distance."
   ]
  },
  {
   "cell_type": "markdown",
   "metadata": {},
   "source": [
    "Now we do the centering"
   ]
  },
  {
   "cell_type": "code",
   "execution_count": 10,
   "metadata": {},
   "outputs": [],
   "source": [
    "def centered(x):\n",
    "    avg = np.sum(x)/float(np.count_nonzero(x))\n",
    "    for i in x:\n",
    "        if i == 0:\n",
    "            yield i\n",
    "        else:\n",
    "            yield i - avg"
   ]
  },
  {
   "cell_type": "code",
   "execution_count": 11,
   "metadata": {},
   "outputs": [],
   "source": [
    "def centered_cosine_similarity(x, y):\n",
    "    x = list(centered(x))\n",
    "    y = list(centered(y))\n",
    "    return np.dot(x, y) / (np.sqrt(np.dot(x, x)) * np.sqrt(np.dot(y, y)))"
   ]
  },
  {
   "cell_type": "code",
   "execution_count": 12,
   "metadata": {},
   "outputs": [
    {
     "name": "stdout",
     "output_type": "stream",
     "text": [
      "-0.6733485361923414\n",
      "0.9078624123797538\n"
     ]
    }
   ],
   "source": [
    "print(centered_cosine_similarity(ratings[0], ratings[1]))\n",
    "print(centered_cosine_similarity(ratings[0], ratings[3]))"
   ]
  },
  {
   "cell_type": "markdown",
   "metadata": {},
   "source": [
    "The difference becomes quite large."
   ]
  },
  {
   "cell_type": "markdown",
   "metadata": {},
   "source": [
    "#### Item-Item collaborative filtering\n",
    "\n",
    "Below is a rating matrix consisting of 3 items and 4 users. Three user-item ratings are unknown, marked with 0. We want to predict these unseen user-item ratings. In this example, let's predict the rating for the second item by the first user.\n",
    "\n",
    "Calculate the similarity between the second item and other items by looking at all users who have rated both items, and use this to compute a rating for the unseen user-item pair."
   ]
  },
  {
   "cell_type": "code",
   "execution_count": 17,
   "metadata": {},
   "outputs": [],
   "source": [
    "ratings = np.array([[2, 0, 3], [5, 2, 0], [3, 3, 1], [0, 2, 2]])"
   ]
  },
  {
   "cell_type": "code",
   "execution_count": 18,
   "metadata": {},
   "outputs": [
    {
     "data": {
      "text/plain": [
       "array([[2, 0, 3],\n",
       "       [5, 2, 0],\n",
       "       [3, 3, 1],\n",
       "       [0, 2, 2]])"
      ]
     },
     "execution_count": 18,
     "metadata": {},
     "output_type": "execute_result"
    }
   ],
   "source": [
    "ratings"
   ]
  },
  {
   "cell_type": "markdown",
   "metadata": {},
   "source": [
    "let's first transpose the matrix to make it item-user. "
   ]
  },
  {
   "cell_type": "code",
   "execution_count": 19,
   "metadata": {
    "scrolled": false
   },
   "outputs": [
    {
     "name": "stdout",
     "output_type": "stream",
     "text": [
      "[[2 5 3 0]\n",
      " [0 2 3 2]\n",
      " [3 0 1 2]]\n"
     ]
    }
   ],
   "source": [
    "ratings = np.transpose(ratings)\n",
    "print(ratings)"
   ]
  },
  {
   "cell_type": "markdown",
   "metadata": {},
   "source": [
    "What is the similarity between other items and item 2?"
   ]
  },
  {
   "cell_type": "code",
   "execution_count": 22,
   "metadata": {},
   "outputs": [],
   "source": [
    "def sim(sim_fn, ratings):\n",
    "    return [sim_fn(x,ratings[1]) for x in ratings]"
   ]
  },
  {
   "cell_type": "code",
   "execution_count": 23,
   "metadata": {},
   "outputs": [
    {
     "data": {
      "text/plain": [
       "[0.747545001596402, 1.0, 0.4537426064865151]"
      ]
     },
     "execution_count": 23,
     "metadata": {},
     "output_type": "execute_result"
    }
   ],
   "source": [
    "sim(cosine_similarity, ratings)"
   ]
  },
  {
   "cell_type": "code",
   "execution_count": 24,
   "metadata": {},
   "outputs": [
    {
     "data": {
      "text/plain": [
       "[-0.44095855184409855, 1.0000000000000002, -0.5773502691896255]"
      ]
     },
     "execution_count": 24,
     "metadata": {},
     "output_type": "execute_result"
    }
   ],
   "source": [
    "sim(centered_cosine_similarity, ratings)"
   ]
  },
  {
   "cell_type": "markdown",
   "metadata": {},
   "source": [
    "item 1 is the most similar and has ratings by user 1. Using |K| = 1, we will choose item 1."
   ]
  },
  {
   "cell_type": "markdown",
   "metadata": {},
   "source": [
    "rating(user 1, item 2) = 0.75*2 = 1.5"
   ]
  }
 ],
 "metadata": {
  "kernelspec": {
   "display_name": "Python 3",
   "language": "python",
   "name": "python3"
  },
  "language_info": {
   "codemirror_mode": {
    "name": "ipython",
    "version": 3
   },
   "file_extension": ".py",
   "mimetype": "text/x-python",
   "name": "python",
   "nbconvert_exporter": "python",
   "pygments_lexer": "ipython3",
   "version": "3.8.3"
  }
 },
 "nbformat": 4,
 "nbformat_minor": 4
}
