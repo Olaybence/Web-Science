{
 "cells": [
  {
   "cell_type": "code",
   "execution_count": 12,
   "id": "promising-virgin",
   "metadata": {},
   "outputs": [],
   "source": [
    "import numpy as np\n",
    "from numpy.linalg import svd\n",
    "movie_ratings = np.array([\n",
    "    [2, 5, 3, 6],\n",
    "    [1, 2, 1, 2],\n",
    "    [4, 1, 1, 2],\n",
    "    [3, 5, 2, 4],\n",
    "    [5, 3, 1, 2],\n",
    "    [4, 5, 5, 10],\n",
    "    [2, 4, 2, 4],\n",
    "    [2, 2, 5, 10],\n",
    "])"
   ]
  },
  {
   "cell_type": "code",
   "execution_count": 13,
   "id": "built-latitude",
   "metadata": {},
   "outputs": [
    {
     "name": "stdout",
     "output_type": "stream",
     "text": [
      "(8, 4)\n"
     ]
    }
   ],
   "source": [
    "print(movie_ratings.shape)"
   ]
  },
  {
   "cell_type": "markdown",
   "id": "present-implementation",
   "metadata": {},
   "source": [
    "What is the rank of the movie matrix?"
   ]
  },
  {
   "cell_type": "code",
   "execution_count": 14,
   "id": "elementary-vocabulary",
   "metadata": {},
   "outputs": [
    {
     "name": "stdout",
     "output_type": "stream",
     "text": [
      "3\n"
     ]
    }
   ],
   "source": [
    "from numpy.linalg import matrix_rank\n",
    "print(matrix_rank(movie_ratings))"
   ]
  },
  {
   "cell_type": "markdown",
   "id": "cleared-characteristic",
   "metadata": {},
   "source": [
    "if we did an SVD, what would we expect the dimensions to be?\n",
    "movie_ratings = 8x4\n",
    "U = 8x3\n",
    "$\\Sigma$ = 3x3\n",
    "V = 4x3, $V^{T}$ = 3x4"
   ]
  },
  {
   "cell_type": "code",
   "execution_count": 21,
   "id": "further-means",
   "metadata": {},
   "outputs": [],
   "source": [
    "U, singular_values, V = svd(movie_ratings)"
   ]
  },
  {
   "cell_type": "code",
   "execution_count": 22,
   "id": "indian-observer",
   "metadata": {},
   "outputs": [
    {
     "name": "stdout",
     "output_type": "stream",
     "text": [
      "(8, 8) (4,) (4, 4)\n"
     ]
    }
   ],
   "source": [
    "print(U.shape, singular_values.shape, V.shape)"
   ]
  },
  {
   "cell_type": "markdown",
   "id": "straight-hands",
   "metadata": {},
   "source": [
    "Hmm, that's not what we expected"
   ]
  },
  {
   "cell_type": "code",
   "execution_count": 23,
   "id": "collaborative-space",
   "metadata": {},
   "outputs": [
    {
     "data": {
      "text/plain": [
       "array([2.20718241e+01, 6.11658901e+00, 3.66359394e+00, 1.06184482e-16])"
      ]
     },
     "execution_count": 23,
     "metadata": {},
     "output_type": "execute_result"
    }
   ],
   "source": [
    "singular_values"
   ]
  },
  {
   "cell_type": "markdown",
   "id": "american-mining",
   "metadata": {},
   "source": [
    "See how the last number is *almost* 0?"
   ]
  },
  {
   "cell_type": "code",
   "execution_count": 24,
   "id": "satisfactory-portugal",
   "metadata": {},
   "outputs": [],
   "source": [
    "U_mod = U[:,:3]"
   ]
  },
  {
   "cell_type": "code",
   "execution_count": 25,
   "id": "exposed-modeling",
   "metadata": {},
   "outputs": [
    {
     "data": {
      "text/plain": [
       "(8, 3)"
      ]
     },
     "execution_count": 25,
     "metadata": {},
     "output_type": "execute_result"
    }
   ],
   "source": [
    "U_mod.shape"
   ]
  },
  {
   "cell_type": "code",
   "execution_count": 26,
   "id": "modified-joshua",
   "metadata": {},
   "outputs": [],
   "source": [
    "singular_values_mod = np.diag(singular_values[:3])"
   ]
  },
  {
   "cell_type": "code",
   "execution_count": 27,
   "id": "violent-grill",
   "metadata": {},
   "outputs": [
    {
     "data": {
      "text/plain": [
       "array([[22.07182408,  0.        ,  0.        ],\n",
       "       [ 0.        ,  6.11658901,  0.        ],\n",
       "       [ 0.        ,  0.        ,  3.66359394]])"
      ]
     },
     "execution_count": 27,
     "metadata": {},
     "output_type": "execute_result"
    }
   ],
   "source": [
    "singular_values_mod"
   ]
  },
  {
   "cell_type": "code",
   "execution_count": 28,
   "id": "american-flush",
   "metadata": {},
   "outputs": [],
   "source": [
    "V_mod = V[:3, :]"
   ]
  },
  {
   "cell_type": "code",
   "execution_count": 29,
   "id": "outstanding-mileage",
   "metadata": {
    "scrolled": true
   },
   "outputs": [
    {
     "data": {
      "text/plain": [
       "array([[-0., -0.,  0.,  0.],\n",
       "       [ 0., -0.,  0.,  0.],\n",
       "       [ 0., -0., -0., -0.],\n",
       "       [ 0., -0.,  0.,  0.],\n",
       "       [-0., -0.,  0.,  0.],\n",
       "       [-0., -0.,  0.,  0.],\n",
       "       [-0., -0.,  0.,  0.],\n",
       "       [ 0.,  0.,  0.,  0.]])"
      ]
     },
     "execution_count": 29,
     "metadata": {},
     "output_type": "execute_result"
    }
   ],
   "source": [
    "np.round(movie_ratings - np.matmul(U_mod, np.dot(singular_values_mod, V_mod)), decimals=10)"
   ]
  },
  {
   "cell_type": "markdown",
   "id": "suspected-glance",
   "metadata": {},
   "source": [
    "If you had a matrix X mxn with rank k, you can always find two matrices U and V (each with rank k, meaning possibly they have dimensions mxk and kxn) such that X = UxV"
   ]
  },
  {
   "cell_type": "code",
   "execution_count": 30,
   "id": "european-algorithm",
   "metadata": {},
   "outputs": [],
   "source": [
    "U_mod = U[:,:2]\n",
    "singular_values_mod = np.diag(singular_values[:2])\n",
    "V_mod = V[:2, :]"
   ]
  },
  {
   "cell_type": "code",
   "execution_count": 31,
   "id": "ahead-commercial",
   "metadata": {},
   "outputs": [
    {
     "data": {
      "text/plain": [
       "array([[-1.03753545,  1.19862062, -0.09090295, -0.18180591],\n",
       "       [-0.36765403,  0.42473508, -0.03221175, -0.06442351],\n",
       "       [ 1.38340172, -1.59818524,  0.12120579,  0.24241157],\n",
       "       [-0.80073471,  0.92505479, -0.07015582, -0.14031164],\n",
       "       [ 0.83114115, -0.96018206,  0.07281986,  0.14563972],\n",
       "       [ 0.17449218, -0.20158341,  0.01528801,  0.03057602],\n",
       "       [-0.73530806,  0.84947017, -0.06442351, -0.12884702],\n",
       "       [ 0.7921794 , -0.91517121,  0.06940625,  0.1388125 ]])"
      ]
     },
     "execution_count": 31,
     "metadata": {},
     "output_type": "execute_result"
    }
   ],
   "source": [
    "np.round(movie_ratings - np.matmul(U_mod, np.dot(singular_values_mod, V_mod)), decimals=10)"
   ]
  },
  {
   "cell_type": "markdown",
   "id": "sunrise-command",
   "metadata": {},
   "source": [
    "This is a 2-rank approximation, so there are some errors."
   ]
  },
  {
   "cell_type": "code",
   "execution_count": null,
   "id": "mediterranean-design",
   "metadata": {},
   "outputs": [],
   "source": []
  }
 ],
 "metadata": {
  "kernelspec": {
   "display_name": "jiant",
   "language": "python",
   "name": "jiant"
  },
  "language_info": {
   "codemirror_mode": {
    "name": "ipython",
    "version": 3
   },
   "file_extension": ".py",
   "mimetype": "text/x-python",
   "name": "python",
   "nbconvert_exporter": "python",
   "pygments_lexer": "ipython3",
   "version": "3.6.12"
  }
 },
 "nbformat": 4,
 "nbformat_minor": 5
}
